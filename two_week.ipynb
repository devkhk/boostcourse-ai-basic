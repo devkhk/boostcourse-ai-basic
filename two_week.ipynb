{
 "cells": [
  {
   "cell_type": "code",
   "execution_count": null,
   "metadata": {},
   "outputs": [],
   "source": [
    "## 2주차\n",
    "# 객체 지향 언어의 이해\n",
    "# OOP"
   ]
  },
  {
   "cell_type": "code",
   "execution_count": 19,
   "metadata": {},
   "outputs": [],
   "source": [
    "class SoccerPlayer(object):\n",
    "    def __init__(self, name:str, position:str, back_number:int):\n",
    "        self.name = name\n",
    "        self.position = position\n",
    "        self.back_number = back_number\n",
    "\n",
    "    def change_back_number(self, new_number):\n",
    "        print(\"선수의 등번호를 변경합니다. : From %d to %d\" %(self.back_number, new_number))\n",
    "        self.back_number = new_number\n",
    "    \n",
    "    def __str__(self) :\n",
    "        return f\"Hello, My name is {self.name} My back number is {self.back_number}\""
   ]
  },
  {
   "cell_type": "code",
   "execution_count": 26,
   "metadata": {},
   "outputs": [],
   "source": [
    "park = SoccerPlayer(\"Park JiSung\",\"MF\",13)"
   ]
  },
  {
   "cell_type": "code",
   "execution_count": 27,
   "metadata": {},
   "outputs": [
    {
     "name": "stdout",
     "output_type": "stream",
     "text": [
      "Hello, My name is Park JiSung My back number is 13\n"
     ]
    }
   ],
   "source": [
    "print(park)"
   ]
  },
  {
   "cell_type": "code",
   "execution_count": 28,
   "metadata": {},
   "outputs": [
    {
     "name": "stdout",
     "output_type": "stream",
     "text": [
      "선수의 등번호를 변경합니다. : From 13 to 7\n"
     ]
    }
   ],
   "source": [
    "park.change_back_number(7)"
   ]
  },
  {
   "cell_type": "code",
   "execution_count": 29,
   "metadata": {},
   "outputs": [
    {
     "name": "stdout",
     "output_type": "stream",
     "text": [
      "Hello, My name is Park JiSung My back number is 7\n"
     ]
    }
   ],
   "source": [
    "print(park)"
   ]
  },
  {
   "cell_type": "markdown",
   "metadata": {},
   "source": [
    "#### 구현 가능한 OOP 만들기 - 노트북\n",
    "- Note를 정리하는 프로그램\n",
    "- 사용자는 Note에 뭔가를 적을 수 있다.\n",
    "- Note에는 Content가 있고, 내용을 제거할 수 있다.\n",
    "- 두개의 노트북을 합쳐 하나로 만들 수 있다.\n",
    "- Note는 Notebook에 삽입된다.\n",
    "- Notebook은 Note가 삽입 될 때 페이지를 생성하며, 최고 300페이지까지 저장이 가능하다.\n",
    "- 300 페이지가 넘으면더이상 노트를 삽입하지 못한다."
   ]
  },
  {
   "cell_type": "code",
   "execution_count": 52,
   "metadata": {},
   "outputs": [],
   "source": [
    "class Note(object) :\n",
    "    def __init__(self, content:str = None):\n",
    "        self.content = content\n",
    "\n",
    "    def write_content(self, new_content):\n",
    "        self.content = new_content\n",
    "    \n",
    "    def remove_content(self):\n",
    "        self.content = \"\"\n",
    "        print(\"내용이 제거 되었습니다.\")\n",
    "\n",
    "    def __add__(self, other):\n",
    "        return self.content + other.content\n",
    "\n",
    "    def __str__(self) :\n",
    "        return f\"현재 노트에 담긴 내용은 \\\"{self.content}\\\" 입니다.\""
   ]
  },
  {
   "cell_type": "code",
   "execution_count": 84,
   "metadata": {},
   "outputs": [
    {
     "name": "stdout",
     "output_type": "stream",
     "text": [
      "현재 노트에 담긴 내용은 \"A노트 입니다..!\" 입니다.\n",
      "현재 노트에 담긴 내용은 \"B노트 입니다..!\" 입니다.\n"
     ]
    }
   ],
   "source": [
    "a = Note(\"A노트 입니다..!\")\n",
    "b = Note(\"B노트 입니다..!\")\n",
    "\n",
    "print(a)\n",
    "print(b)"
   ]
  },
  {
   "cell_type": "code",
   "execution_count": 109,
   "metadata": {},
   "outputs": [],
   "source": [
    "class NoteBook(object):\n",
    "    def __init__(self, title):\n",
    "        self.title = title\n",
    "        self.page_number = 0\n",
    "        self.notes = {}\n",
    "\n",
    "    def add_note(self, note, page = 0):\n",
    "        if self.page_number < 300 :\n",
    "            if page == 0:\n",
    "                self.notes[self.page_number] = note\n",
    "                self.page_number += 1\n",
    "            else:\n",
    "                self.notes[page] = note\n",
    "                self.page_number += 1\n",
    "        else:\n",
    "            print(\"page가 모두 채워졌습니다.\")\n",
    "\n",
    "    def remove_note(self):\n",
    "        pass\n",
    "    def get_number_of_pages(self):\n",
    "        return len(self.notes.keys())"
   ]
  },
  {
   "cell_type": "code",
   "execution_count": 110,
   "metadata": {},
   "outputs": [
    {
     "data": {
      "text/plain": [
       "'노트북'"
      ]
     },
     "execution_count": 110,
     "metadata": {},
     "output_type": "execute_result"
    }
   ],
   "source": [
    "nb = NoteBook(\"노트북\")\n",
    "nb.title"
   ]
  },
  {
   "cell_type": "code",
   "execution_count": 111,
   "metadata": {},
   "outputs": [],
   "source": [
    "nb.add_note(a)"
   ]
  },
  {
   "cell_type": "code",
   "execution_count": 112,
   "metadata": {},
   "outputs": [],
   "source": [
    "nb.add_note(b, 100)"
   ]
  },
  {
   "cell_type": "code",
   "execution_count": 113,
   "metadata": {},
   "outputs": [
    {
     "data": {
      "text/plain": [
       "2"
      ]
     },
     "execution_count": 113,
     "metadata": {},
     "output_type": "execute_result"
    }
   ],
   "source": [
    "nb.get_number_of_pages()"
   ]
  },
  {
   "cell_type": "code",
   "execution_count": 117,
   "metadata": {},
   "outputs": [
    {
     "data": {
      "text/plain": [
       "{0: <__main__.Note at 0x12024394be0>, 100: <__main__.Note at 0x12024397340>}"
      ]
     },
     "execution_count": 117,
     "metadata": {},
     "output_type": "execute_result"
    }
   ],
   "source": [
    "nb.notes"
   ]
  },
  {
   "cell_type": "code",
   "execution_count": 115,
   "metadata": {},
   "outputs": [
    {
     "name": "stdout",
     "output_type": "stream",
     "text": [
      "현재 노트에 담긴 내용은 \"B노트 입니다..!\" 입니다.\n"
     ]
    }
   ],
   "source": [
    "print(nb.notes[100])"
   ]
  },
  {
   "cell_type": "markdown",
   "metadata": {},
   "source": [
    "#### 데코레이터 \n",
    "- 함수에서 코드를 바꾸지 않고 추가하거나 수정하고 싶을 때 사용하는 문법"
   ]
  },
  {
   "cell_type": "markdown",
   "metadata": {},
   "source": [
    "```\n",
    "def a():\n",
    "    code_1\n",
    "    code_2\n",
    "    code_3\n",
    "\n",
    "def b():\n",
    "    code_1\n",
    "    code_4\n",
    "    code_3\n",
    "\n",
    "...20개\n",
    "```"
   ]
  },
  {
   "cell_type": "markdown",
   "metadata": {},
   "source": [
    "#### 데코레이터의 사용\n",
    "\n",
    "```\n",
    "def c(func) \n",
    "    def wrapper(*args, **kwargs):\n",
    "        code_1\n",
    "        result = func(*args, **kwagrs)\n",
    "        code_3\n",
    "        return result\n",
    "    return wrapper\n",
    "\n",
    "@c\n",
    "def a():\n",
    "    code_2\n",
    "\n",
    "@c\n",
    "def b():\n",
    "    code_4    \n",
    "\n",
    "```"
   ]
  },
  {
   "cell_type": "markdown",
   "metadata": {},
   "source": [
    "- 데코레이터는 결국 데코레이터로 선언한 함수에서 리턴하는 함수로 변환이 되서 실행이 된다.\n",
    "- 데코레이터 함수로 선언된 함수c는 함수a와 b를 func 인자로 받고 결론적으로는 wrapper를 함수를 실행 한 것과 같다.\n",
    "- 데코레이터를 사용하는 이유는 기존에 만들어진 함수가 다른곳에서 많이 사용되고 있을때(변경이 어려운 경우)\\\n",
    "코드를 변경하지 않고 특별히 필요한 내용을 추가하거나 수정하고 싶을때 사용한다."
   ]
  },
  {
   "cell_type": "code",
   "execution_count": 123,
   "metadata": {},
   "outputs": [],
   "source": [
    "# a \n",
    "def plus(a, b):\n",
    "    result = a + b                      # code_2\n",
    "    return result"
   ]
  },
  {
   "cell_type": "code",
   "execution_count": 120,
   "metadata": {},
   "outputs": [],
   "source": [
    "def minus(a, b) :\n",
    "    print(\"start\")                              # code_1\n",
    "    result = a - b                              # code_4\n",
    "    print(\"result : {}\".format(result))         # code_3\n",
    "    return result"
   ]
  },
  {
   "cell_type": "code",
   "execution_count": 125,
   "metadata": {},
   "outputs": [],
   "source": [
    "# c\n",
    "def disp(func):\n",
    "    def wrapper(*args, **kwargs):\n",
    "        print(\"start\")                              # code_1\n",
    "        result = func(*args, **kwargs)              # code_2, code_4\n",
    "        print(\"result : {}\".format(result))         # code_3\n",
    "        return result\n",
    "    return wrapper"
   ]
  },
  {
   "cell_type": "code",
   "execution_count": 126,
   "metadata": {},
   "outputs": [],
   "source": [
    "# a\n",
    "\n",
    "@disp\n",
    "def plus(a, b):\n",
    "    result = a + b                      # code_2\n",
    "    return result"
   ]
  },
  {
   "cell_type": "code",
   "execution_count": 127,
   "metadata": {},
   "outputs": [
    {
     "name": "stdout",
     "output_type": "stream",
     "text": [
      "start\n",
      "result : 3\n"
     ]
    },
    {
     "data": {
      "text/plain": [
       "3"
      ]
     },
     "execution_count": 127,
     "metadata": {},
     "output_type": "execute_result"
    }
   ],
   "source": [
    "plus(1, 2)"
   ]
  },
  {
   "cell_type": "code",
   "execution_count": 128,
   "metadata": {},
   "outputs": [],
   "source": [
    "# 함수의 실행 시간을 출력하는 데코레이터 함수를 작성하세요."
   ]
  },
  {
   "cell_type": "code",
   "execution_count": 129,
   "metadata": {},
   "outputs": [],
   "source": [
    "import time"
   ]
  },
  {
   "cell_type": "code",
   "execution_count": 130,
   "metadata": {},
   "outputs": [],
   "source": [
    "def timer(func):\n",
    "    def wrapper(*args, **kwargs):\n",
    "        start_time = time.time()\n",
    "        result = func(*args, **kwargs)\n",
    "        end_time = time.time()\n",
    "        print(f\"running time : {end_time - start_time}\")\n",
    "        return result\n",
    "    return wrapper\n",
    "\n"
   ]
  },
  {
   "cell_type": "code",
   "execution_count": 139,
   "metadata": {},
   "outputs": [],
   "source": [
    "@timer\n",
    "def test1(num1, num2):\n",
    "    data = range(num1, num2 + 1)\n",
    "    return sum(data)"
   ]
  },
  {
   "cell_type": "code",
   "execution_count": 141,
   "metadata": {},
   "outputs": [],
   "source": [
    "@timer\n",
    "def test2(num1, num2):\n",
    "    result = 0\n",
    "    for num in range(num1, num2 + 1):\n",
    "        result += num\n",
    "    return result"
   ]
  },
  {
   "cell_type": "code",
   "execution_count": 142,
   "metadata": {},
   "outputs": [
    {
     "name": "stdout",
     "output_type": "stream",
     "text": [
      "running time : 0.002000093460083008\n"
     ]
    },
    {
     "data": {
      "text/plain": [
       "5000050000"
      ]
     },
     "execution_count": 142,
     "metadata": {},
     "output_type": "execute_result"
    }
   ],
   "source": [
    "test1(1, 100000)"
   ]
  },
  {
   "cell_type": "code",
   "execution_count": 143,
   "metadata": {},
   "outputs": [
    {
     "name": "stdout",
     "output_type": "stream",
     "text": [
      "running time : 0.005995988845825195\n"
     ]
    },
    {
     "data": {
      "text/plain": [
       "5000050000"
      ]
     },
     "execution_count": 143,
     "metadata": {},
     "output_type": "execute_result"
    }
   ],
   "source": [
    "test2(1, 100000)"
   ]
  },
  {
   "cell_type": "code",
   "execution_count": 146,
   "metadata": {},
   "outputs": [],
   "source": [
    "# 패스워드를 입력 받아야 함수가 실행 되도록 데코레이터 작성"
   ]
  },
  {
   "cell_type": "code",
   "execution_count": 4,
   "metadata": {},
   "outputs": [],
   "source": [
    "def need_password(func):\n",
    "    def wrapper(*args, **kwargs):\n",
    "        password = \"1234\"\n",
    "        input_pw = input(\"비밀번호를 입력하세요 : \")\n",
    "        if input_pw == password:\n",
    "            result = func(*args, **kwargs)\n",
    "        else:\n",
    "            result = \"잘못된 비밀번호입니다.\"\n",
    "        return result\n",
    "    return wrapper"
   ]
  },
  {
   "cell_type": "code",
   "execution_count": 5,
   "metadata": {},
   "outputs": [],
   "source": [
    "def my_name(name:str) -> str: \n",
    "    return print(\"제 이름은 {} 입니다.\".format(name))"
   ]
  },
  {
   "cell_type": "code",
   "execution_count": 6,
   "metadata": {},
   "outputs": [
    {
     "name": "stdout",
     "output_type": "stream",
     "text": [
      "제 이름은 광현 입니다.\n"
     ]
    }
   ],
   "source": [
    "my_name(\"광현\")"
   ]
  },
  {
   "cell_type": "code",
   "execution_count": 7,
   "metadata": {},
   "outputs": [],
   "source": [
    "@need_password\n",
    "def my_name(name:str) -> str: \n",
    "    return print(\"제 이름은 {} 입니다.\".format(name))"
   ]
  },
  {
   "cell_type": "code",
   "execution_count": 8,
   "metadata": {},
   "outputs": [
    {
     "data": {
      "text/plain": [
       "'잘못된 비밀번호입니다.'"
      ]
     },
     "execution_count": 8,
     "metadata": {},
     "output_type": "execute_result"
    }
   ],
   "source": [
    "my_name(\"광현\")"
   ]
  },
  {
   "cell_type": "code",
   "execution_count": 161,
   "metadata": {},
   "outputs": [],
   "source": [
    "class SoccerPlayer(object):\n",
    "    def __init__(self, name:str, position:str, back_number:int):\n",
    "        self.name = name\n",
    "        self.position = position\n",
    "        self.back_number = back_number\n",
    "\n",
    "    @need_password\n",
    "    def change_back_number(self, new_number):\n",
    "        print(\"선수의 등번호를 변경합니다. : From %d to %d\" %(self.back_number, new_number))\n",
    "        self.back_number = new_number\n",
    "    \n",
    "    def __str__(self) :\n",
    "        return f\"Hello, My name is {self.name} My back number is {self.back_number}\""
   ]
  },
  {
   "cell_type": "code",
   "execution_count": 162,
   "metadata": {},
   "outputs": [],
   "source": [
    "son = SoccerPlayer(\"heung min\", \"fw\", 7)"
   ]
  },
  {
   "cell_type": "code",
   "execution_count": 163,
   "metadata": {},
   "outputs": [
    {
     "name": "stdout",
     "output_type": "stream",
     "text": [
      "Hello, My name is heung min My back number is 7\n"
     ]
    }
   ],
   "source": [
    "print(son)"
   ]
  },
  {
   "cell_type": "code",
   "execution_count": 165,
   "metadata": {},
   "outputs": [
    {
     "name": "stdout",
     "output_type": "stream",
     "text": [
      "선수의 등번호를 변경합니다. : From 7 to 10\n"
     ]
    }
   ],
   "source": [
    "son.change_back_number(10)"
   ]
  },
  {
   "cell_type": "code",
   "execution_count": 166,
   "metadata": {},
   "outputs": [
    {
     "name": "stdout",
     "output_type": "stream",
     "text": [
      "Hello, My name is heung min My back number is 10\n"
     ]
    }
   ],
   "source": [
    "print(son)"
   ]
  },
  {
   "cell_type": "code",
   "execution_count": null,
   "metadata": {},
   "outputs": [],
   "source": []
  },
  {
   "cell_type": "code",
   "execution_count": 3,
   "metadata": {},
   "outputs": [],
   "source": [
    "import hello"
   ]
  },
  {
   "cell_type": "code",
   "execution_count": 4,
   "metadata": {},
   "outputs": [
    {
     "name": "stdout",
     "output_type": "stream",
     "text": [
      "hello my name is 광현\n"
     ]
    }
   ],
   "source": [
    "hello.say_name(\"광현\")"
   ]
  },
  {
   "cell_type": "code",
   "execution_count": 5,
   "metadata": {},
   "outputs": [
    {
     "data": {
      "text/plain": [
       "51"
      ]
     },
     "execution_count": 5,
     "metadata": {},
     "output_type": "execute_result"
    }
   ],
   "source": [
    "hello.add(1, 50)"
   ]
  },
  {
   "cell_type": "code",
   "execution_count": 6,
   "metadata": {},
   "outputs": [
    {
     "data": {
      "text/plain": [
       "44"
      ]
     },
     "execution_count": 6,
     "metadata": {},
     "output_type": "execute_result"
    }
   ],
   "source": [
    "hello.minus(1, 45)"
   ]
  },
  {
   "cell_type": "code",
   "execution_count": 2,
   "metadata": {},
   "outputs": [
    {
     "name": "stdout",
     "output_type": "stream",
     "text": [
      "Not\n",
      "10.0\n",
      "5.0\n"
     ]
    }
   ],
   "source": [
    "for i in range(3):\n",
    "    res = []\n",
    "    try:\n",
    "        result = 10 / i\n",
    "        print(result)\n",
    "        res.append(result)\n",
    "    except ZeroDivisionError:\n",
    "        print(\"Not\")"
   ]
  },
  {
   "cell_type": "code",
   "execution_count": 1,
   "metadata": {},
   "outputs": [],
   "source": [
    "def need_password(func):\n",
    "    def wrapper(*args, **kwargs):\n",
    "        password = \"1234\"\n",
    "        input_pw = input(\"비밀번호를 입력하세요 : \")\n",
    "        if input_pw == password:\n",
    "            result = func(*args, **kwargs)\n",
    "        else:\n",
    "            result = \"잘못된 비밀번호입니다.\"\n",
    "        return result\n",
    "    return wrapper"
   ]
  },
  {
   "cell_type": "code",
   "execution_count": 2,
   "metadata": {},
   "outputs": [],
   "source": [
    "score = [(100, 100), (95, 90), (55, 60), (75, 80), (70, 70)]"
   ]
  },
  {
   "cell_type": "code",
   "execution_count": 3,
   "metadata": {},
   "outputs": [],
   "source": [
    "@need_password\n",
    "def get_avg(score:list) :\n",
    "    # 리스트와 반복문을 사용\n",
    "    # 학생별 평균\n",
    "    for index, point in enumerate(score) :\n",
    "            print(f'{index+1}번, 평균 : {sum(point)/len(point):.1f}')"
   ]
  },
  {
   "cell_type": "code",
   "execution_count": 5,
   "metadata": {},
   "outputs": [
    {
     "name": "stdout",
     "output_type": "stream",
     "text": [
      "비밀번호를 입력하세요 : 1231\n"
     ]
    },
    {
     "data": {
      "text/plain": [
       "'잘못된 비밀번호입니다.'"
      ]
     },
     "execution_count": 5,
     "metadata": {},
     "output_type": "execute_result"
    }
   ],
   "source": [
    "get_avg(score)"
   ]
  },
  {
   "cell_type": "code",
   "execution_count": 3,
   "metadata": {},
   "outputs": [
    {
     "name": "stdout",
     "output_type": "stream",
     "text": [
      "not divided by 0\n",
      "10.0\n",
      "2\n",
      "5.0\n",
      "3\n",
      "3.3333333333333335\n",
      "4\n",
      "2.5\n",
      "5\n",
      "2.0\n",
      "list index out of range\n",
      "1.6666666666666667\n",
      "list index out of range\n",
      "1.4285714285714286\n",
      "list index out of range\n",
      "1.25\n",
      "list index out of range\n",
      "1.1111111111111112\n",
      "list index out of range\n"
     ]
    }
   ],
   "source": [
    "a = [1, 2, 3 ,4, 5]\n",
    "for i in range(10):\n",
    "    try : \n",
    "        print(10/i)\n",
    "        print(a[i])\n",
    "    except ZeroDivisionError:\n",
    "        print(\"not divided by 0\")\n",
    "    except IndexError as e:\n",
    "        print(f\"{e}\")"
   ]
  },
  {
   "cell_type": "code",
   "execution_count": 4,
   "metadata": {},
   "outputs": [],
   "source": [
    "### 파일 열기"
   ]
  },
  {
   "cell_type": "code",
   "execution_count": 10,
   "metadata": {},
   "outputs": [
    {
     "name": "stdout",
     "output_type": "stream",
     "text": [
      "Rapping head nothing whether nevermore thereat the my my distant. \n",
      "Both betook my plainly above nevermore one plainly whose.\n",
      "His thy and from truly.\n",
      "The desolate unmerciful in whether placid on, on the raven footfalls i scarce a tapping above, loneliness muttered i but rare be sad, be implore a napping cushioned shrieked him. Bird bird december stood was thing lenore shall, i the adore quoth hath truly and and. Cannot chamber youhere footfalls or the, said quoth only remember uncertain the shore shore he. The answer whispered nothing nevermore i and whom. Tapping heart violet thy of entrance, just tempest the at me, it then this his silence plume blessed by. Name and oer we word at. Human angels nevermore i his to. Seat lenore in followed and his more. In though was or name metell tell that, velvet head relevancy with rare more evermore dirges my, upon truly the the what and, press of opened lenore answer echo floor, truly this surcease the stately more flutter tempter floor, my fluttered bird nevermore forgiveness, within smiling so the what into if a just. The hesitating sad if i whether radiant all. This relevancy thy felt shore memories upon implore..\n",
      "The within the nights this by rapping truly the dared. While terrors soon napping but gently the it its nights, he hath open nameless came quaint the, uncertain broken the of a distinctly that raven lamplight. Tell i followed whom youhere crest the, enchanted a that name repeating and, sat quaff no wretch upon midnight distant, off that lies shrieked my no of than. Soon i raven such by nameless that nevermore darkness head. That darkness your marvelled hath you. Bird entrance nevernevermore demons name of burning while. In on back dreams me, stately nights living ember dreary desert name purple. There lamplight still oer at air more, gaunt and the with before gave heart and. My and the at so stronger bird. Explore unmerciful on at to nothing, explore no thy door the theeby that floating. Decorum ease now more each me vainly then. Perched whispered core plainly i.\n",
      "Surcease syllable more the utters doubting i, nothing as a was hopes beast nevermore with, flutter there thing marvelled then still to there, bosoms stayed spoken still that then. Devil i plutonian each smiling fowl ever him what, that violet his my oer from such above, this ashore stepped of the upon that. Hauntedtell clasp stopped to aptly i, i my perfumed before or. Uttered discourse my the i, to friends soul sir shore this long fancy door both, there name theeby nevermore melancholy above quoth heart, the that one the wind lamplight front napping on. To was lie unbrokenquit lent spoken name. Devil that something ebony the the, and nevermore its parting he, of of its door and, heart eyes here till tapping floor, at quoth your my door i echo never ever have. Sent my me entreating above nevermore for, bird said this sure at straight no lenore,.\n",
      "And if by soul mortals this. Croaking if some of many door i and, lady this as eyes wandering beguiling floating and wondering wide. The what implore pallas startled other on land moment. Madam december me hesitating at this whose and meaninglittle, the the take the my beating. If i chamber one into seraphim hath velvet, is the thereat placid thy shall as or many. Violet land and that heard have that, when grim whispered tis from distinctly, ease burden the on the floor i never with. The flown this his sculptured. And bends chamber my felt as. Me truly perfumed volume denser and syllable lord. At as till heart on. In maiden tis no loneliness or. Ominous window thy no sorrowsorrow lent then whispered and, my from chamber friends bust that then. And door plutonian linking sought gaunt upon quaff the, bust some an surcease ghastly door in. Heart chamber whom never above.\n",
      "Heart with was word a echo for i thou, is distant tell he spoken raven bird.\n"
     ]
    },
    {
     "data": {
      "text/plain": [
       "<_io.TextIOWrapper name='example.txt' mode='r' encoding='cp949'>"
      ]
     },
     "execution_count": 10,
     "metadata": {},
     "output_type": "execute_result"
    }
   ],
   "source": [
    "with open(\"example.txt\",\"r\") as f:\n",
    "    contents = f.read()\n",
    "    print(contents)\n",
    "f"
   ]
  },
  {
   "cell_type": "code",
   "execution_count": 26,
   "metadata": {},
   "outputs": [
    {
     "data": {
      "text/plain": [
       "['Rapping head nothing whether nevermore thereat the my my distant. \\n',\n",
       " 'Both betook my plainly above nevermore one plainly whose.\\n',\n",
       " 'His thy and from truly.\\n',\n",
       " 'The desolate unmerciful in whether placid on, on the raven footfalls i scarce a tapping above, loneliness muttered i but rare be sad, be implore a napping cushioned shrieked him. Bird bird december stood was thing lenore shall, i the adore quoth hath truly and and. Cannot chamber youhere footfalls or the, said quoth only remember uncertain the shore shore he. The answer whispered nothing nevermore i and whom. Tapping heart violet thy of entrance, just tempest the at me, it then this his silence plume blessed by. Name and oer we word at. Human angels nevermore i his to. Seat lenore in followed and his more. In though was or name metell tell that, velvet head relevancy with rare more evermore dirges my, upon truly the the what and, press of opened lenore answer echo floor, truly this surcease the stately more flutter tempter floor, my fluttered bird nevermore forgiveness, within smiling so the what into if a just. The hesitating sad if i whether radiant all. This relevancy thy felt shore memories upon implore..\\n',\n",
       " 'The within the nights this by rapping truly the dared. While terrors soon napping but gently the it its nights, he hath open nameless came quaint the, uncertain broken the of a distinctly that raven lamplight. Tell i followed whom youhere crest the, enchanted a that name repeating and, sat quaff no wretch upon midnight distant, off that lies shrieked my no of than. Soon i raven such by nameless that nevermore darkness head. That darkness your marvelled hath you. Bird entrance nevernevermore demons name of burning while. In on back dreams me, stately nights living ember dreary desert name purple. There lamplight still oer at air more, gaunt and the with before gave heart and. My and the at so stronger bird. Explore unmerciful on at to nothing, explore no thy door the theeby that floating. Decorum ease now more each me vainly then. Perched whispered core plainly i.\\n',\n",
       " 'Surcease syllable more the utters doubting i, nothing as a was hopes beast nevermore with, flutter there thing marvelled then still to there, bosoms stayed spoken still that then. Devil i plutonian each smiling fowl ever him what, that violet his my oer from such above, this ashore stepped of the upon that. Hauntedtell clasp stopped to aptly i, i my perfumed before or. Uttered discourse my the i, to friends soul sir shore this long fancy door both, there name theeby nevermore melancholy above quoth heart, the that one the wind lamplight front napping on. To was lie unbrokenquit lent spoken name. Devil that something ebony the the, and nevermore its parting he, of of its door and, heart eyes here till tapping floor, at quoth your my door i echo never ever have. Sent my me entreating above nevermore for, bird said this sure at straight no lenore,.\\n',\n",
       " 'And if by soul mortals this. Croaking if some of many door i and, lady this as eyes wandering beguiling floating and wondering wide. The what implore pallas startled other on land moment. Madam december me hesitating at this whose and meaninglittle, the the take the my beating. If i chamber one into seraphim hath velvet, is the thereat placid thy shall as or many. Violet land and that heard have that, when grim whispered tis from distinctly, ease burden the on the floor i never with. The flown this his sculptured. And bends chamber my felt as. Me truly perfumed volume denser and syllable lord. At as till heart on. In maiden tis no loneliness or. Ominous window thy no sorrowsorrow lent then whispered and, my from chamber friends bust that then. And door plutonian linking sought gaunt upon quaff the, bust some an surcease ghastly door in. Heart chamber whom never above.\\n',\n",
       " 'Heart with was word a echo for i thou, is distant tell he spoken raven bird.']"
      ]
     },
     "execution_count": 26,
     "metadata": {},
     "output_type": "execute_result"
    }
   ],
   "source": [
    "with open(\"example.txt\",\"r\") as f:\n",
    "    contents_lines = f.readlines() # 리스트 형식\n",
    "contents_lines\n"
   ]
  },
  {
   "cell_type": "code",
   "execution_count": 25,
   "metadata": {},
   "outputs": [
    {
     "name": "stdout",
     "output_type": "stream",
     "text": [
      "0 === Rapping head nothing whether nevermore thereat the my my distant. \n",
      "1 === Both betook my plainly above nevermore one plainly whose.\n",
      "2 === His thy and from truly.\n",
      "3 === The desolate unmerciful in whether placid on, on the raven footfalls i scarce a tapping above, loneliness muttered i but rare be sad, be implore a napping cushioned shrieked him. Bird bird december stood was thing lenore shall, i the adore quoth hath truly and and. Cannot chamber youhere footfalls or the, said quoth only remember uncertain the shore shore he. The answer whispered nothing nevermore i and whom. Tapping heart violet thy of entrance, just tempest the at me, it then this his silence plume blessed by. Name and oer we word at. Human angels nevermore i his to. Seat lenore in followed and his more. In though was or name metell tell that, velvet head relevancy with rare more evermore dirges my, upon truly the the what and, press of opened lenore answer echo floor, truly this surcease the stately more flutter tempter floor, my fluttered bird nevermore forgiveness, within smiling so the what into if a just. The hesitating sad if i whether radiant all. This relevancy thy felt shore memories upon implore..\n",
      "4 === The within the nights this by rapping truly the dared. While terrors soon napping but gently the it its nights, he hath open nameless came quaint the, uncertain broken the of a distinctly that raven lamplight. Tell i followed whom youhere crest the, enchanted a that name repeating and, sat quaff no wretch upon midnight distant, off that lies shrieked my no of than. Soon i raven such by nameless that nevermore darkness head. That darkness your marvelled hath you. Bird entrance nevernevermore demons name of burning while. In on back dreams me, stately nights living ember dreary desert name purple. There lamplight still oer at air more, gaunt and the with before gave heart and. My and the at so stronger bird. Explore unmerciful on at to nothing, explore no thy door the theeby that floating. Decorum ease now more each me vainly then. Perched whispered core plainly i.\n",
      "5 === Surcease syllable more the utters doubting i, nothing as a was hopes beast nevermore with, flutter there thing marvelled then still to there, bosoms stayed spoken still that then. Devil i plutonian each smiling fowl ever him what, that violet his my oer from such above, this ashore stepped of the upon that. Hauntedtell clasp stopped to aptly i, i my perfumed before or. Uttered discourse my the i, to friends soul sir shore this long fancy door both, there name theeby nevermore melancholy above quoth heart, the that one the wind lamplight front napping on. To was lie unbrokenquit lent spoken name. Devil that something ebony the the, and nevermore its parting he, of of its door and, heart eyes here till tapping floor, at quoth your my door i echo never ever have. Sent my me entreating above nevermore for, bird said this sure at straight no lenore,.\n",
      "6 === And if by soul mortals this. Croaking if some of many door i and, lady this as eyes wandering beguiling floating and wondering wide. The what implore pallas startled other on land moment. Madam december me hesitating at this whose and meaninglittle, the the take the my beating. If i chamber one into seraphim hath velvet, is the thereat placid thy shall as or many. Violet land and that heard have that, when grim whispered tis from distinctly, ease burden the on the floor i never with. The flown this his sculptured. And bends chamber my felt as. Me truly perfumed volume denser and syllable lord. At as till heart on. In maiden tis no loneliness or. Ominous window thy no sorrowsorrow lent then whispered and, my from chamber friends bust that then. And door plutonian linking sought gaunt upon quaff the, bust some an surcease ghastly door in. Heart chamber whom never above.\n",
      "7 === Heart with was word a echo for i thou, is distant tell he spoken raven bird.\n"
     ]
    }
   ],
   "source": [
    "with open(\"example.txt\", \"r\") as f :\n",
    "    i = 0\n",
    "    while True :\n",
    "        line = f.readline() # 메모리에 부담이 가지 않게 한줄씩만 리드\n",
    "        if not line:\n",
    "            break\n",
    "        print(str(i) + \" === \" + line.replace(\"\\n\",\"\"))\n",
    "        i += 1"
   ]
  },
  {
   "cell_type": "code",
   "execution_count": 27,
   "metadata": {},
   "outputs": [],
   "source": [
    "import os"
   ]
  },
  {
   "cell_type": "code",
   "execution_count": 28,
   "metadata": {},
   "outputs": [],
   "source": [
    "os.mkdir(\"log\")"
   ]
  },
  {
   "cell_type": "code",
   "execution_count": 31,
   "metadata": {},
   "outputs": [
    {
     "name": "stdout",
     "output_type": "stream",
     "text": [
      "[WinError 183] 파일이 이미 있으므로 만들 수 없습니다: 'log'\n"
     ]
    }
   ],
   "source": [
    "try:\n",
    "    os.mkdir(\"log\")\n",
    "except FileExistsError as e :\n",
    "    print(e)"
   ]
  },
  {
   "cell_type": "code",
   "execution_count": 32,
   "metadata": {},
   "outputs": [
    {
     "data": {
      "text/plain": [
       "True"
      ]
     },
     "execution_count": 32,
     "metadata": {},
     "output_type": "execute_result"
    }
   ],
   "source": [
    "os.path.exists(\"log\")"
   ]
  },
  {
   "cell_type": "code",
   "execution_count": 34,
   "metadata": {},
   "outputs": [
    {
     "data": {
      "text/plain": [
       "False"
      ]
     },
     "execution_count": 34,
     "metadata": {},
     "output_type": "execute_result"
    }
   ],
   "source": [
    "os.path.isfile(\"log\")"
   ]
  },
  {
   "cell_type": "code",
   "execution_count": 38,
   "metadata": {},
   "outputs": [
    {
     "data": {
      "text/plain": [
       "'log\\\\hello_copy.py'"
      ]
     },
     "execution_count": 38,
     "metadata": {},
     "output_type": "execute_result"
    }
   ],
   "source": [
    "## 폴더를 옮길때 권장\n",
    "\n",
    "import shutil\n",
    "\n",
    "source = \"hello.py\"\n",
    "dest = os.path.join(\"log\", \"hello_copy.py\")\n",
    "shutil.copy(source, dest)"
   ]
  },
  {
   "cell_type": "code",
   "execution_count": 39,
   "metadata": {},
   "outputs": [],
   "source": [
    "import pathlib"
   ]
  },
  {
   "cell_type": "code",
   "execution_count": 42,
   "metadata": {},
   "outputs": [],
   "source": [
    "cwd = pathlib.Path.cwd()"
   ]
  },
  {
   "cell_type": "code",
   "execution_count": 43,
   "metadata": {},
   "outputs": [
    {
     "data": {
      "text/plain": [
       "WindowsPath('c:/Users/kimkh/OneDrive/바탕 화면/개발')"
      ]
     },
     "execution_count": 43,
     "metadata": {},
     "output_type": "execute_result"
    }
   ],
   "source": [
    "cwd.parent"
   ]
  },
  {
   "cell_type": "code",
   "execution_count": 44,
   "metadata": {},
   "outputs": [
    {
     "data": {
      "text/plain": [
       "WindowsPath('c:/Users/kimkh/OneDrive/바탕 화면')"
      ]
     },
     "execution_count": 44,
     "metadata": {},
     "output_type": "execute_result"
    }
   ],
   "source": [
    "cwd.parent.parent"
   ]
  },
  {
   "cell_type": "code",
   "execution_count": 46,
   "metadata": {},
   "outputs": [
    {
     "data": {
      "text/plain": [
       "[WindowsPath('c:/Users/kimkh/OneDrive/바탕 화면'),\n",
       " WindowsPath('c:/Users/kimkh/OneDrive'),\n",
       " WindowsPath('c:/Users/kimkh'),\n",
       " WindowsPath('c:/Users'),\n",
       " WindowsPath('c:/')]"
      ]
     },
     "execution_count": 46,
     "metadata": {},
     "output_type": "execute_result"
    }
   ],
   "source": [
    "list(cwd.parent.parents)"
   ]
  },
  {
   "cell_type": "code",
   "execution_count": 47,
   "metadata": {},
   "outputs": [
    {
     "data": {
      "text/plain": [
       "[WindowsPath('c:/Users/kimkh/OneDrive/바탕 화면/개발/AI 기초/.git'),\n",
       " WindowsPath('c:/Users/kimkh/OneDrive/바탕 화면/개발/AI 기초/.gitignore'),\n",
       " WindowsPath('c:/Users/kimkh/OneDrive/바탕 화면/개발/AI 기초/.ipynb_checkpoints'),\n",
       " WindowsPath('c:/Users/kimkh/OneDrive/바탕 화면/개발/AI 기초/AI Basic 참가자 OT 자료(배포용).pdf'),\n",
       " WindowsPath('c:/Users/kimkh/OneDrive/바탕 화면/개발/AI 기초/AI Basic 참가자 리드부스터OT 자료(배포용).pdf'),\n",
       " WindowsPath('c:/Users/kimkh/OneDrive/바탕 화면/개발/AI 기초/example.txt'),\n",
       " WindowsPath('c:/Users/kimkh/OneDrive/바탕 화면/개발/AI 기초/hello.py'),\n",
       " WindowsPath('c:/Users/kimkh/OneDrive/바탕 화면/개발/AI 기초/ioconsole.py'),\n",
       " WindowsPath('c:/Users/kimkh/OneDrive/바탕 화면/개발/AI 기초/log'),\n",
       " WindowsPath('c:/Users/kimkh/OneDrive/바탕 화면/개발/AI 기초/start.ipynb'),\n",
       " WindowsPath('c:/Users/kimkh/OneDrive/바탕 화면/개발/AI 기초/two_week.ipynb'),\n",
       " WindowsPath('c:/Users/kimkh/OneDrive/바탕 화면/개발/AI 기초/__pycache__')]"
      ]
     },
     "execution_count": 47,
     "metadata": {},
     "output_type": "execute_result"
    }
   ],
   "source": [
    "list(cwd.glob(\"*\"))"
   ]
  },
  {
   "cell_type": "markdown",
   "metadata": {},
   "source": [
    "#### Pickle\n",
    "\n",
    "- 파이썬의 객체를 영속화(persistence)하는 built in 객체\n",
    "- 데이터, object 등 실행중 정보를 저장 => 불러와서 사용\n",
    "- 저장해야 하는 정보, 계산 결과(모델) 등 활용이 많음"
   ]
  },
  {
   "cell_type": "code",
   "execution_count": 48,
   "metadata": {},
   "outputs": [],
   "source": [
    "import pickle"
   ]
  },
  {
   "cell_type": "code",
   "execution_count": 51,
   "metadata": {},
   "outputs": [],
   "source": [
    "test = [1, 2, 3, 4]\n",
    "\n",
    "f = open(\"list.pickle\" , \"wb\")   # pickle은 파이썬에 특화된 바이너리파일 wb :write binary\n",
    "pickle.dump(test, f)\n",
    "f.close()"
   ]
  },
  {
   "cell_type": "code",
   "execution_count": 54,
   "metadata": {},
   "outputs": [
    {
     "ename": "NameError",
     "evalue": "name 'test' is not defined",
     "output_type": "error",
     "traceback": [
      "\u001b[1;31m---------------------------------------------------------------------------\u001b[0m",
      "\u001b[1;31mNameError\u001b[0m                                 Traceback (most recent call last)",
      "\u001b[1;32m~\\AppData\\Local\\Temp/ipykernel_20240/1199795778.py\u001b[0m in \u001b[0;36m<module>\u001b[1;34m\u001b[0m\n\u001b[1;32m----> 1\u001b[1;33m \u001b[1;32mdel\u001b[0m \u001b[0mtest\u001b[0m\u001b[1;33m\u001b[0m\u001b[1;33m\u001b[0m\u001b[0m\n\u001b[0m",
      "\u001b[1;31mNameError\u001b[0m: name 'test' is not defined"
     ]
    }
   ],
   "source": [
    "del test"
   ]
  },
  {
   "cell_type": "code",
   "execution_count": 55,
   "metadata": {},
   "outputs": [
    {
     "name": "stdout",
     "output_type": "stream",
     "text": [
      "[1, 2, 3, 4]\n"
     ]
    }
   ],
   "source": [
    "f = open(\"list.pickle\", \"rb\")\n",
    "test_pickle = pickle.load(f)\n",
    "print(test_pickle)\n",
    "f.close()"
   ]
  },
  {
   "cell_type": "markdown",
   "metadata": {},
   "source": [
    "#### logging Log관리\n",
    "\n",
    "- python 기본 Log 관리 모듈 : logging"
   ]
  },
  {
   "cell_type": "code",
   "execution_count": 56,
   "metadata": {},
   "outputs": [],
   "source": [
    "import logging"
   ]
  },
  {
   "cell_type": "code",
   "execution_count": 57,
   "metadata": {},
   "outputs": [
    {
     "name": "stderr",
     "output_type": "stream",
     "text": [
      "WARNING:root:level 3 warning\n",
      "ERROR:root:level 4 error\n",
      "CRITICAL:root:level 5 critical\n"
     ]
    }
   ],
   "source": [
    "logging.debug(\"level 1 debug\")\n",
    "logging.info(\"level 2 info\")\n",
    "logging.warning(\"level 3 warning\")\n",
    "logging.error(\"level 4 error\")\n",
    "logging.critical(\"level 5 critical\")"
   ]
  },
  {
   "cell_type": "code",
   "execution_count": 59,
   "metadata": {},
   "outputs": [],
   "source": [
    "#### CSV"
   ]
  },
  {
   "cell_type": "code",
   "execution_count": 61,
   "metadata": {},
   "outputs": [],
   "source": [
    "line_counter = 0\n",
    "data_header = []\n",
    "customer_list = []"
   ]
  },
  {
   "cell_type": "code",
   "execution_count": 72,
   "metadata": {},
   "outputs": [],
   "source": [
    "with open(\"customers.csv\") as cd :\n",
    "    while True :\n",
    "        data = cd.readline()\n",
    "        if not data : break # 데이터 없을때 루프 종료\n",
    "        if line_counter == 0:               # 첫번째 데이터는 데이터의 필드\n",
    "            data_header = data.split(\",\")   # 데이터의 필드는 data_header List에 저장\n",
    "        else:\n",
    "            customer_list.append(data.split(\",\")) # 일반 데이터는 customer_list에 저장\n",
    "        line_counter += 1 "
   ]
  },
  {
   "cell_type": "code",
   "execution_count": 73,
   "metadata": {},
   "outputs": [
    {
     "name": "stdout",
     "output_type": "stream",
     "text": [
      "Header : \t ['customerNumber', 'customerName', 'contactLastName', 'contactFirstName', 'phone', 'addressLine1', 'addressLine2', 'city', 'state', 'postalCode', 'country', 'salesRepEmployeeNumber', 'creditLimit\\n']\n"
     ]
    }
   ],
   "source": [
    "print(\"Header : \\t\", data_header)"
   ]
  },
  {
   "cell_type": "code",
   "execution_count": 74,
   "metadata": {},
   "outputs": [
    {
     "name": "stdout",
     "output_type": "stream",
     "text": [
      "Data :  0 :\t\t ['103', '\"Atelier graphique\"', 'Schmitt', '\"Carine \"', '40.32.2555', '\"54', ' rue Royale\"', 'NULL', 'Nantes', 'NULL', '44000', 'France', '1370', '21000\\n']\n",
      "Data :  1 :\t\t ['112', '\"Signal Gift Stores\"', 'King', 'Jean', '7025551838', '\"8489 Strong St.\"', 'NULL', '\"Las Vegas\"', 'NV', '83030', 'USA', '1166', '71800\\n']\n",
      "Data :  2 :\t\t ['114', '\"Australian Collectors', ' Co.\"', 'Ferguson', 'Peter', '\"03 9520 4555\"', '\"636 St Kilda Road\"', '\"Level 3\"', 'Melbourne', 'Victoria', '3004', 'Australia', '1611', '117300\\n']\n",
      "Data :  3 :\t\t ['119', '\"La Rochelle Gifts\"', 'Labrune', '\"Janine \"', '40.67.8555', '\"67', ' rue des Cinquante Otages\"', 'NULL', 'Nantes', 'NULL', '44000', 'France', '1370', '118200\\n']\n",
      "Data :  4 :\t\t ['121', '\"Baane Mini Imports\"', 'Bergulfsen', '\"Jonas \"', '\"07-98 9555\"', '\"Erling Skakkes gate 78\"', 'NULL', 'Stavern', 'NULL', '4110', 'Norway', '1504', '81700\\n']\n",
      "Data :  5 :\t\t ['124', '\"Mini Gifts Distributors Ltd.\"', 'Nelson', 'Susan', '4155551450', '\"5677 Strong St.\"', 'NULL', '\"San Rafael\"', 'CA', '97562', 'USA', '1165', '210500\\n']\n",
      "Data :  6 :\t\t ['125', '\"Havel & Zbyszek Co\"', 'Piestrzeniewicz', '\"Zbyszek \"', '\"(26) 642-7555\"', '\"ul. Filtrowa 68\"', 'NULL', 'Warszawa', 'NULL', '01-012', 'Poland', 'NULL', '0\\n']\n",
      "Data :  7 :\t\t ['128', '\"Blauer See Auto', ' Co.\"', 'Keitel', 'Roland', '\"+49 69 66 90 2555\"', '\"Lyonerstr. 34\"', 'NULL', 'Frankfurt', 'NULL', '60528', 'Germany', '1504', '59700\\n']\n",
      "Data :  8 :\t\t ['129', '\"Mini Wheels Co.\"', 'Murphy', 'Julie', '6505555787', '\"5557 North Pendale Street\"', 'NULL', '\"San Francisco\"', 'CA', '94217', 'USA', '1165', '64600\\n']\n",
      "Data :  9 :\t\t ['131', '\"Land of Toys Inc.\"', 'Lee', 'Kwai', '2125557818', '\"897 Long Airport Avenue\"', 'NULL', 'NYC', 'NY', '10022', 'USA', '1323', '114900\\n']\n"
     ]
    }
   ],
   "source": [
    "for i in range(10):\n",
    "    print(\"Data : \", i,\":\\t\\t\", customer_list[i])"
   ]
  },
  {
   "cell_type": "markdown",
   "metadata": {},
   "source": [
    "### 정규식 연습 사이트\n",
    "https://regexr.com/"
   ]
  },
  {
   "cell_type": "markdown",
   "metadata": {},
   "source": [
    "------------"
   ]
  },
  {
   "cell_type": "code",
   "execution_count": 28,
   "metadata": {},
   "outputs": [],
   "source": [
    "# Q1\n",
    "# 중간고사 기말고사 점수를 따로 받아 저장하는 클래스를 구현\n",
    "# 생성자의 인스턴스는 private로 선언되어야 하며, 데코레이터를 이용해 데이터를 저장하고, 함수를 이용해 평균값을 출력하세요.\n",
    "\n",
    "# test score, mid : 50, final : 75\n"
   ]
  },
  {
   "cell_type": "markdown",
   "metadata": {},
   "source": [
    "- 프라이빗 변수는 기본적으로 외부에서 접근 할 수 없으나 내부의 메소드를 통해 접근 할 수 있다.\n",
    "- 그 방법으로 메소드 앞에 @property모양의 데코레이터를 선언하면 변수의 값을 가지고 올 수 있다.\n",
    "- 또한 변경하려면 @(함수명).setter를 작성하는 방법이 있다."
   ]
  },
  {
   "cell_type": "code",
   "execution_count": 1,
   "metadata": {},
   "outputs": [],
   "source": [
    "\n",
    "class Score():\n",
    "    \n",
    "    def __init__(self, mid, final):\n",
    "        self.__mid = mid\n",
    "        self.__final = final\n",
    "    \n",
    "    @property               # getter\n",
    "    def mid(self):\n",
    "        return self.__mid\n",
    "    \n",
    "    @mid.setter             # setter\n",
    "    def mid(self, value):\n",
    "        self.__mid = value\n",
    "\n",
    "    @property               # getter\n",
    "    def final(self):\n",
    "        return self.__final\n",
    "\n",
    "    @final.setter           # setter\n",
    "    def final(self, value):\n",
    "        self.__final = value\n",
    "\n",
    "    def avg(self):\n",
    "        return (self.__mid + self.__final) / 2\n"
   ]
  },
  {
   "cell_type": "code",
   "execution_count": 5,
   "metadata": {},
   "outputs": [
    {
     "data": {
      "text/plain": [
       "62.5"
      ]
     },
     "execution_count": 5,
     "metadata": {},
     "output_type": "execute_result"
    }
   ],
   "source": [
    "# 출력함수\n",
    "score = Score(50, 75)\n",
    "\n",
    "score.avg()"
   ]
  },
  {
   "cell_type": "code",
   "execution_count": 31,
   "metadata": {},
   "outputs": [],
   "source": [
    "# Q2\n",
    "# 다양한 탈것을 사용하는 게임을 만드는 중\n",
    "# 빠른 구현을 위해 이미 구현한 Car클래스를 이용해 Bike라는 클래스를 새로 제작하려고 한다.\n",
    "# Car클래스를 상속받아서 새로운 Bike 클래스를 아래와 같이 출력되도록 구성"
   ]
  },
  {
   "cell_type": "code",
   "execution_count": 43,
   "metadata": {},
   "outputs": [],
   "source": [
    "class Car:\n",
    "    def __init__(self, fuel, wheels):\n",
    "        self.fuel = fuel\n",
    "        self.wheels = wheels"
   ]
  },
  {
   "cell_type": "code",
   "execution_count": 44,
   "metadata": {},
   "outputs": [],
   "source": [
    "class Bike(Car):\n",
    "    def __init__(self, fuel, wheels, size):\n",
    "        super().__init__(fuel, wheels)\n",
    "        self.size = size"
   ]
  },
  {
   "cell_type": "code",
   "execution_count": 45,
   "metadata": {},
   "outputs": [
    {
     "name": "stdout",
     "output_type": "stream",
     "text": [
      "gas 2 small\n"
     ]
    }
   ],
   "source": [
    "bike = Bike(\"gas\", 2, \"small\")\n",
    "print(bike.fuel, bike.wheels, bike.size)"
   ]
  },
  {
   "cell_type": "code",
   "execution_count": 180,
   "metadata": {},
   "outputs": [],
   "source": [
    "# Q3\n",
    "# 시험 결과에 대한 데이터를 csv파일로 전달했다.\n",
    "# 파일을 이용해 데이터 처리를 진행해야한다.\n",
    "# 파일 입출력을 이용해 파일 데이터를 리스트 만들기\n",
    "\n",
    "import csv\n",
    "file_path = \"./test-score.csv\"\n",
    "\n",
    "def read_file(file_path):\n",
    "    with open(file_path,\"r\") as f :\n",
    "        rows = csv.reader(f,delimiter=\",\")\n",
    "        result = [row for row in rows]\n",
    "    return result"
   ]
  },
  {
   "cell_type": "code",
   "execution_count": 184,
   "metadata": {},
   "outputs": [],
   "source": [
    "# 파일 경로를 file_path로 설정\n",
    "import csv\n",
    "file_path = \"./test-score.csv\"\n",
    "\n",
    "def read_file(file_path):\n",
    "    with open(file_path,\"r\") as f :\n",
    "        rows = csv.reader(f,delimiter=\",\")\n",
    "        result = [list(map(int, row)) for row in rows]\n",
    "        # for row in rows:\n",
    "        #     result.append(row)                   # 리스트 안 strnig 타입  \n",
    "        #     # result.append(list(map(int, row))) # 리스트 안 int 타입\n",
    "    return result\n"
   ]
  },
  {
   "cell_type": "code",
   "execution_count": 185,
   "metadata": {},
   "outputs": [
    {
     "name": "stdout",
     "output_type": "stream",
     "text": [
      "[[73, 80, 75, 152], [93, 88, 93, 185], [89, 91, 90, 180], [96, 98, 100, 196], [73, 66, 70, 142], [53, 46, 55, 101], [69, 74, 77, 149], [47, 56, 60, 115], [87, 79, 90, 175], [79, 70, 88, 164], [69, 70, 73, 141], [70, 65, 74, 141], [93, 95, 91, 184], [79, 80, 73, 152], [70, 73, 78, 148], [93, 89, 96, 192], [78, 75, 68, 147], [81, 90, 93, 183], [88, 92, 86, 177], [78, 83, 77, 159], [82, 86, 90, 177], [86, 82, 89, 175], [78, 83, 85, 175], [76, 83, 71, 149], [96, 93, 95, 192]]\n"
     ]
    }
   ],
   "source": [
    "print(read_file(file_path))"
   ]
  },
  {
   "cell_type": "code",
   "execution_count": 151,
   "metadata": {},
   "outputs": [],
   "source": [
    "# Q4\n",
    "# 클래스로 다루기\n",
    "\n",
    "class ReadCSV():\n",
    "    \n",
    "    # 생성자\n",
    "    def __init__(self, file_path):\n",
    "        self.path = file_path\n",
    "    \n",
    "    # 파일 읽어오기\n",
    "    def read_file(self):\n",
    "        with open(self.path,\"r\") as f :\n",
    "            lines = []\n",
    "            while True:\n",
    "                data = f.readline()\n",
    "                if not data: break\n",
    "                line = data.replace(\"\\n\",\"\").split(\",\")\n",
    "                line = list(map(int, line))\n",
    "                lines.append(line)\n",
    "        return lines\n",
    "    \n",
    "    # 리스트 합\n",
    "    def merge_list(self):\n",
    "        result = []\n",
    "        for data in self.read_file():\n",
    "            result.append(sum(data))\n",
    "        return result\n"
   ]
  },
  {
   "cell_type": "code",
   "execution_count": 252,
   "metadata": {},
   "outputs": [],
   "source": [
    "# Q3, Q4, Q5\n",
    "import csv\n",
    "file_path = \"./test-score.csv\"\n",
    "\n",
    "class ReadCSV:\n",
    "    \n",
    "    # 생성자\n",
    "    def __init__(self, file_path):\n",
    "        self.path = file_path\n",
    "        self.__ls = list\n",
    "    \n",
    "    # 파일 읽어오기\n",
    "    def read_file(self):\n",
    "        with open(self.path,\"r\") as f :\n",
    "            rows = csv.reader(f, delimiter=\",\")\n",
    "            self.__ls = [list(map(int, row)) for row in rows]\n",
    "        return self.__ls\n",
    "    \n",
    "    # 리스트 합\n",
    "    def merge_list(self):\n",
    "        return [sum(data) for data in self.__ls]\n",
    "\n",
    "    # Q5 : q4를 수정해 리스트 평균 값, 오름차순\n",
    "    def q5_merge_list(self):\n",
    "        return sorted([sum(data)/len(data) for data in self.__ls])\n"
   ]
  },
  {
   "cell_type": "code",
   "execution_count": 253,
   "metadata": {},
   "outputs": [
    {
     "name": "stdout",
     "output_type": "stream",
     "text": [
      "[[73, 80, 75, 152], [93, 88, 93, 185], [89, 91, 90, 180], [96, 98, 100, 196], [73, 66, 70, 142], [53, 46, 55, 101], [69, 74, 77, 149], [47, 56, 60, 115], [87, 79, 90, 175], [79, 70, 88, 164], [69, 70, 73, 141], [70, 65, 74, 141], [93, 95, 91, 184], [79, 80, 73, 152], [70, 73, 78, 148], [93, 89, 96, 192], [78, 75, 68, 147], [81, 90, 93, 183], [88, 92, 86, 177], [78, 83, 77, 159], [82, 86, 90, 177], [86, 82, 89, 175], [78, 83, 85, 175], [76, 83, 71, 149], [96, 93, 95, 192]] \n",
      "\n",
      "[380, 459, 450, 490, 351, 255, 369, 278, 431, 401, 353, 350, 463, 384, 369, 470, 368, 447, 443, 397, 435, 432, 421, 379, 476] \n",
      "\n",
      "[63.75, 69.5, 87.5, 87.75, 88.25, 92.0, 92.25, 92.25, 94.75, 95.0, 96.0, 99.25, 100.25, 105.25, 107.75, 108.0, 108.75, 110.75, 111.75, 112.5, 114.75, 115.75, 117.5, 119.0, 122.5]\n"
     ]
    }
   ],
   "source": [
    "read_csv = ReadCSV(file_path)\n",
    "print(read_csv.read_file(),\"\\n\")\n",
    "print(read_csv.merge_list(),\"\\n\")\n",
    "print(read_csv.q5_merge_list())"
   ]
  },
  {
   "cell_type": "code",
   "execution_count": null,
   "metadata": {},
   "outputs": [],
   "source": []
  },
  {
   "cell_type": "code",
   "execution_count": null,
   "metadata": {},
   "outputs": [],
   "source": []
  }
 ],
 "metadata": {
  "interpreter": {
   "hash": "2be5faf79681da6f2a61fdfdd5405d65d042280f7fba6178067603e3a2925119"
  },
  "kernelspec": {
   "display_name": "Python 3",
   "language": "python",
   "name": "python3"
  },
  "language_info": {
   "codemirror_mode": {
    "name": "ipython",
    "version": 3
   },
   "file_extension": ".py",
   "mimetype": "text/x-python",
   "name": "python",
   "nbconvert_exporter": "python",
   "pygments_lexer": "ipython3",
   "version": "3.10.1"
  }
 },
 "nbformat": 4,
 "nbformat_minor": 2
}
