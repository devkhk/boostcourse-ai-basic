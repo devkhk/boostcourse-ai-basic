{
 "cells": [
  {
   "cell_type": "markdown",
   "metadata": {},
   "source": [
    "동작이 되는지 확인한다~!"
   ]
  },
  {
   "cell_type": "markdown",
   "metadata": {},
   "source": [
    "쥬피터 노트북 실행 잘 되고 있구욤"
   ]
  },
  {
   "cell_type": "code",
   "execution_count": 2,
   "metadata": {},
   "outputs": [],
   "source": [
    "a = 1\n",
    "b = 2"
   ]
  },
  {
   "cell_type": "code",
   "execution_count": 3,
   "metadata": {},
   "outputs": [
    {
     "name": "stdout",
     "output_type": "stream",
     "text": [
      "1 2\n"
     ]
    }
   ],
   "source": [
    "print(a, b)"
   ]
  },
  {
   "cell_type": "code",
   "execution_count": 4,
   "metadata": {},
   "outputs": [
    {
     "data": {
      "text/plain": [
       "3"
      ]
     },
     "execution_count": 4,
     "metadata": {},
     "output_type": "execute_result"
    }
   ],
   "source": [
    "a + b"
   ]
  },
  {
   "cell_type": "code",
   "execution_count": 12,
   "metadata": {},
   "outputs": [],
   "source": [
    "ls = [0, 1, 2, 3 ,4, 5, 6, 7, 8, 9, 10]"
   ]
  },
  {
   "cell_type": "code",
   "execution_count": 13,
   "metadata": {},
   "outputs": [
    {
     "data": {
      "text/plain": [
       "[0, 1, 2, 3, 4, 5, 6, 7, 8, 9]"
      ]
     },
     "execution_count": 13,
     "metadata": {},
     "output_type": "execute_result"
    }
   ],
   "source": [
    "ls[0:10]"
   ]
  },
  {
   "cell_type": "code",
   "execution_count": 14,
   "metadata": {},
   "outputs": [],
   "source": [
    "ls = ['a', 'b', 'c', 'd', 'e']"
   ]
  },
  {
   "cell_type": "code",
   "execution_count": 23,
   "metadata": {},
   "outputs": [],
   "source": [
    "a = ls[0:4:2]"
   ]
  },
  {
   "cell_type": "code",
   "execution_count": 24,
   "metadata": {},
   "outputs": [],
   "source": [
    "b = ls[-3:-1]"
   ]
  },
  {
   "cell_type": "code",
   "execution_count": 27,
   "metadata": {},
   "outputs": [
    {
     "data": {
      "text/plain": [
       "['a', 'c', 'c', 'd']"
      ]
     },
     "execution_count": 27,
     "metadata": {},
     "output_type": "execute_result"
    }
   ],
   "source": [
    "c = a + b\n",
    "c"
   ]
  },
  {
   "cell_type": "code",
   "execution_count": 28,
   "metadata": {},
   "outputs": [],
   "source": [
    "c.extend(['a', 'b', 'c', 'e'])"
   ]
  },
  {
   "cell_type": "code",
   "execution_count": 29,
   "metadata": {},
   "outputs": [
    {
     "data": {
      "text/plain": [
       "['a', 'c', 'c', 'd', 'a', 'b', 'c', 'e']"
      ]
     },
     "execution_count": 29,
     "metadata": {},
     "output_type": "execute_result"
    }
   ],
   "source": [
    "c"
   ]
  },
  {
   "cell_type": "code",
   "execution_count": 31,
   "metadata": {},
   "outputs": [
    {
     "data": {
      "text/plain": [
       "['a', 'c', 'c', 'd', 'a', 'b', 'c', 'e']"
      ]
     },
     "execution_count": 31,
     "metadata": {},
     "output_type": "execute_result"
    }
   ],
   "source": [
    "d = c[:]\n",
    "d"
   ]
  },
  {
   "cell_type": "code",
   "execution_count": 34,
   "metadata": {},
   "outputs": [
    {
     "data": {
      "text/plain": [
       "(['a', 'c', 'c', 'd', 'a', 'b', 'c', 'e'],\n",
       " ['a', 'g', 'c', 'd', 'a', 'b', 'c', 'e'])"
      ]
     },
     "execution_count": 34,
     "metadata": {},
     "output_type": "execute_result"
    }
   ],
   "source": [
    "d[1] = 'g'\n",
    "c, d"
   ]
  },
  {
   "cell_type": "code",
   "execution_count": 37,
   "metadata": {},
   "outputs": [],
   "source": [
    "# 2차원 배열은 copy를 사용해야함\n",
    "import copy\n",
    "\n",
    "kor = [1, 2, 3, 4, 5]\n",
    "eng = [10, 20, 30, 40, 50]\n",
    "jap = [100, 200, 300, 400, 500]"
   ]
  },
  {
   "cell_type": "code",
   "execution_count": 38,
   "metadata": {},
   "outputs": [],
   "source": [
    "score = [kor, eng, jap]"
   ]
  },
  {
   "cell_type": "code",
   "execution_count": 40,
   "metadata": {},
   "outputs": [],
   "source": [
    "copy_score = copy.deepcopy(score)"
   ]
  },
  {
   "cell_type": "code",
   "execution_count": 41,
   "metadata": {},
   "outputs": [
    {
     "data": {
      "text/plain": [
       "([[1, 2, 3, 4, 5], [10, 20, 30, 40, 50], [100, 200, 300, 400, 500]],\n",
       " [[1, 2, 6, 4, 5], [10, 20, 30, 40, 50], [100, 200, 300, 400, 500]])"
      ]
     },
     "execution_count": 41,
     "metadata": {},
     "output_type": "execute_result"
    }
   ],
   "source": [
    "copy_score[0][2] = 6\n",
    "score, copy_score"
   ]
  },
  {
   "cell_type": "code",
   "execution_count": 4,
   "metadata": {},
   "outputs": [],
   "source": [
    "a = 1"
   ]
  },
  {
   "cell_type": "code",
   "execution_count": 5,
   "metadata": {},
   "outputs": [],
   "source": [
    "b = 2"
   ]
  },
  {
   "cell_type": "code",
   "execution_count": 6,
   "metadata": {},
   "outputs": [
    {
     "name": "stdout",
     "output_type": "stream",
     "text": [
      "1 + 2 = 3\n"
     ]
    }
   ],
   "source": [
    "print('{} + {} = {}'.format(a, b, a+b))"
   ]
  },
  {
   "cell_type": "code",
   "execution_count": 7,
   "metadata": {},
   "outputs": [
    {
     "name": "stdout",
     "output_type": "stream",
     "text": [
      "1 ,       2.00\n"
     ]
    }
   ],
   "source": [
    "print('{0} , {1:10.2f}'.format(a, b))"
   ]
  },
  {
   "cell_type": "code",
   "execution_count": 8,
   "metadata": {},
   "outputs": [],
   "source": [
    "name = \"kim\"\n",
    "age = 39"
   ]
  },
  {
   "cell_type": "code",
   "execution_count": 10,
   "metadata": {},
   "outputs": [
    {
     "name": "stdout",
     "output_type": "stream",
     "text": [
      "hello, kim. You are 39 years old\n"
     ]
    }
   ],
   "source": [
    "print(f\"hello, {name}. You are {age} years old\")"
   ]
  },
  {
   "cell_type": "code",
   "execution_count": 16,
   "metadata": {},
   "outputs": [
    {
     "name": "stdout",
     "output_type": "stream",
     "text": [
      "                 kim\n",
      "kim                 \n",
      "kim*****************\n",
      "*****************kim\n",
      "********kim*********\n"
     ]
    }
   ],
   "source": [
    "print(f'{name:>20}')\n",
    "print(f'{name:20}')\n",
    "print(f'{name:*<20}')\n",
    "print(f'{name:*>20}')\n",
    "print(f'{name:*^20}')"
   ]
  },
  {
   "cell_type": "code",
   "execution_count": 17,
   "metadata": {},
   "outputs": [
    {
     "name": "stdout",
     "output_type": "stream",
     "text": [
      "1.23\n"
     ]
    }
   ],
   "source": [
    "nm = 1.23456789\n",
    "print(f'{nm:.2f}')"
   ]
  },
  {
   "cell_type": "code",
   "execution_count": 18,
   "metadata": {},
   "outputs": [],
   "source": [
    "pk = 132.5324"
   ]
  },
  {
   "cell_type": "code",
   "execution_count": 30,
   "metadata": {},
   "outputs": [
    {
     "name": "stdout",
     "output_type": "stream",
     "text": [
      "            132.5324\n",
      "132.53**************\n",
      "***************132.5\n"
     ]
    }
   ],
   "source": [
    "print(f'{pk:>20.4f}')\n",
    "print(f'{pk:*<20.2f}')\n",
    "print(f'{pk:*>20.1f}')\n"
   ]
  },
  {
   "cell_type": "code",
   "execution_count": 1,
   "metadata": {},
   "outputs": [
    {
     "name": "stdout",
     "output_type": "stream",
     "text": [
      "hihi\n"
     ]
    }
   ],
   "source": [
    "print(\"hihi\")"
   ]
  },
  {
   "cell_type": "markdown",
   "metadata": {},
   "source": [
    "#### 함수 파라미터 call by object reference 구조\n",
    "- 객체의 주소가 함수로 전달\n",
    "- 전달된 객체를 참조하여 변경시 호출자에게 영향을 주나, 새로운 객체를 만들 경우 호출자에게 영향을 주지 않음."
   ]
  },
  {
   "cell_type": "code",
   "execution_count": 27,
   "metadata": {},
   "outputs": [
    {
     "name": "stdout",
     "output_type": "stream",
     "text": [
      "eggs : [2, 3]\n",
      "ham : [0, 1]\n"
     ]
    }
   ],
   "source": [
    "def spam(eggs) :\n",
    "    eggs.append(1)\n",
    "    eggs = [2, 3]\n",
    "    print(f'eggs : {eggs}')\n",
    "    \n",
    "ham = [0]\n",
    "spam(ham)\n",
    "print(f'ham : {ham}')"
   ]
  },
  {
   "cell_type": "code",
   "execution_count": 32,
   "metadata": {},
   "outputs": [
    {
     "name": "stdout",
     "output_type": "stream",
     "text": [
      "In fn :  hello\n",
      "out fn :  hi\n"
     ]
    }
   ],
   "source": [
    "def print_greedings(eggs) :\n",
    "    eggs += \"HELLO!\"\n",
    "    eggs = \"hello\"\n",
    "    print(\"In fn : \", eggs)\n",
    "\n",
    "ham = \"hi\"\n",
    "print_greedings(ham)\n",
    "print(\"out fn : \", ham)"
   ]
  },
  {
   "cell_type": "markdown",
   "metadata": {},
   "source": [
    "#### 중요!\n",
    "\n",
    "- 파이썬 함수 파라미터 참조의 call by object reference 에서는\n",
    "- Immutable 과 mutable 한 객체가 차이를 두게 된다.\n",
    "- 대표적으로 immutable 한 객체에는 문자열, 수, 튜플이 있다.\n",
    "- mutable한 객체로는 리스트, dict 이 있다.\n",
    "#  \n",
    "- 그래서 함수의 인자로서 객체의 주소가 전달되어도 mutable한 리스트와 dict 형태는 함수에 제공한 인자값이 함께 변경된다.\n",
    "- 반대로 immutable 한 객체가 함수의 인자로 전달 된 경우 기존 인자는 변경되지 않는다.\n"
   ]
  },
  {
   "cell_type": "code",
   "execution_count": 31,
   "metadata": {},
   "outputs": [],
   "source": [
    "# 재귀함수 만들어보기\n",
    "\n",
    "def factorial(n) : \n",
    "    if n == 1 :\n",
    "        return 1\n",
    "    else : \n",
    "        return n + factorial(n-1)"
   ]
  },
  {
   "cell_type": "code",
   "execution_count": 11,
   "metadata": {},
   "outputs": [
    {
     "data": {
      "text/plain": [
       "55"
      ]
     },
     "execution_count": 11,
     "metadata": {},
     "output_type": "execute_result"
    }
   ],
   "source": [
    "factorial(10)"
   ]
  },
  {
   "cell_type": "code",
   "execution_count": 12,
   "metadata": {},
   "outputs": [],
   "source": [
    "# 다이나믹 타이핑\n",
    "\n",
    "def type_hint_example(name:str) -> str:\n",
    "    return f'hello {name}'"
   ]
  },
  {
   "cell_type": "code",
   "execution_count": 13,
   "metadata": {},
   "outputs": [
    {
     "data": {
      "text/plain": [
       "'hello 안녕하세욤'"
      ]
     },
     "execution_count": 13,
     "metadata": {},
     "output_type": "execute_result"
    }
   ],
   "source": [
    "type_hint_example(\"안녕하세욤\")"
   ]
  },
  {
   "cell_type": "code",
   "execution_count": 14,
   "metadata": {},
   "outputs": [
    {
     "data": {
      "text/plain": [
       "'hello 12'"
      ]
     },
     "execution_count": 14,
     "metadata": {},
     "output_type": "execute_result"
    }
   ],
   "source": [
    "type_hint_example(12)"
   ]
  },
  {
   "cell_type": "code",
   "execution_count": 18,
   "metadata": {},
   "outputs": [
    {
     "data": {
      "text/plain": [
       "int"
      ]
     },
     "execution_count": 18,
     "metadata": {},
     "output_type": "execute_result"
    }
   ],
   "source": [
    "a = 10\n",
    "float(a)\n",
    "type(a)"
   ]
  },
  {
   "cell_type": "code",
   "execution_count": 20,
   "metadata": {},
   "outputs": [
    {
     "data": {
      "text/plain": [
       "'hi only liv'"
      ]
     },
     "execution_count": 20,
     "metadata": {},
     "output_type": "execute_result"
    }
   ],
   "source": [
    "string = \"#hi #only #liv\" \n",
    "string.replace('#',\"\")"
   ]
  },
  {
   "cell_type": "code",
   "execution_count": 22,
   "metadata": {},
   "outputs": [
    {
     "data": {
      "text/plain": [
       "'#hi #only #liv'"
      ]
     },
     "execution_count": 22,
     "metadata": {},
     "output_type": "execute_result"
    }
   ],
   "source": [
    "string.rstrip()"
   ]
  },
  {
   "cell_type": "code",
   "execution_count": 24,
   "metadata": {},
   "outputs": [
    {
     "data": {
      "text/plain": [
       "'ppl'"
      ]
     },
     "execution_count": 24,
     "metadata": {},
     "output_type": "execute_result"
    }
   ],
   "source": [
    "'apple'.strip('ae') # 양쪽 끝에 a , e 문자열 조합 제거"
   ]
  },
  {
   "cell_type": "code",
   "execution_count": 1,
   "metadata": {},
   "outputs": [],
   "source": [
    "s = set([1, 2, 3])"
   ]
  },
  {
   "cell_type": "code",
   "execution_count": 2,
   "metadata": {},
   "outputs": [
    {
     "data": {
      "text/plain": [
       "{1, 2, 3}"
      ]
     },
     "execution_count": 2,
     "metadata": {},
     "output_type": "execute_result"
    }
   ],
   "source": [
    "s"
   ]
  },
  {
   "cell_type": "code",
   "execution_count": 3,
   "metadata": {},
   "outputs": [],
   "source": [
    "s.update([4, 3, 2, 1, 5])"
   ]
  },
  {
   "cell_type": "code",
   "execution_count": 4,
   "metadata": {},
   "outputs": [
    {
     "data": {
      "text/plain": [
       "{1, 2, 3, 4, 5}"
      ]
     },
     "execution_count": 4,
     "metadata": {},
     "output_type": "execute_result"
    }
   ],
   "source": [
    "s"
   ]
  },
  {
   "cell_type": "code",
   "execution_count": 5,
   "metadata": {},
   "outputs": [],
   "source": [
    "s.remove(3)"
   ]
  },
  {
   "cell_type": "code",
   "execution_count": 6,
   "metadata": {},
   "outputs": [
    {
     "data": {
      "text/plain": [
       "{1, 2, 4, 5}"
      ]
     },
     "execution_count": 6,
     "metadata": {},
     "output_type": "execute_result"
    }
   ],
   "source": [
    "s"
   ]
  },
  {
   "cell_type": "code",
   "execution_count": 7,
   "metadata": {},
   "outputs": [],
   "source": [
    "s.discard(2)"
   ]
  },
  {
   "cell_type": "code",
   "execution_count": 8,
   "metadata": {},
   "outputs": [
    {
     "data": {
      "text/plain": [
       "{1, 4, 5}"
      ]
     },
     "execution_count": 8,
     "metadata": {},
     "output_type": "execute_result"
    }
   ],
   "source": [
    "s"
   ]
  },
  {
   "cell_type": "code",
   "execution_count": 9,
   "metadata": {},
   "outputs": [],
   "source": [
    "s.add(0)"
   ]
  },
  {
   "cell_type": "code",
   "execution_count": 10,
   "metadata": {},
   "outputs": [
    {
     "data": {
      "text/plain": [
       "{0, 1, 4, 5}"
      ]
     },
     "execution_count": 10,
     "metadata": {},
     "output_type": "execute_result"
    }
   ],
   "source": [
    "s"
   ]
  },
  {
   "cell_type": "code",
   "execution_count": 14,
   "metadata": {},
   "outputs": [],
   "source": [
    "s.update([1, 2,3, 4])"
   ]
  },
  {
   "cell_type": "code",
   "execution_count": 17,
   "metadata": {},
   "outputs": [],
   "source": [
    "s.clear()"
   ]
  },
  {
   "cell_type": "code",
   "execution_count": 18,
   "metadata": {},
   "outputs": [
    {
     "data": {
      "text/plain": [
       "set()"
      ]
     },
     "execution_count": 18,
     "metadata": {},
     "output_type": "execute_result"
    }
   ],
   "source": [
    "s"
   ]
  },
  {
   "cell_type": "code",
   "execution_count": 19,
   "metadata": {},
   "outputs": [],
   "source": [
    "s1 = set([1, 2, 3, 4, 5])\n",
    "s2 = set([3, 4, 5, 6, 7])"
   ]
  },
  {
   "cell_type": "code",
   "execution_count": 20,
   "metadata": {},
   "outputs": [
    {
     "data": {
      "text/plain": [
       "{3, 4, 5}"
      ]
     },
     "execution_count": 20,
     "metadata": {},
     "output_type": "execute_result"
    }
   ],
   "source": [
    "s1.intersection(s2)"
   ]
  },
  {
   "cell_type": "code",
   "execution_count": 21,
   "metadata": {},
   "outputs": [
    {
     "data": {
      "text/plain": [
       "{1, 2}"
      ]
     },
     "execution_count": 21,
     "metadata": {},
     "output_type": "execute_result"
    }
   ],
   "source": [
    "s1-s2 # 차집합"
   ]
  },
  {
   "cell_type": "code",
   "execution_count": 23,
   "metadata": {},
   "outputs": [
    {
     "data": {
      "text/plain": [
       "{6, 7}"
      ]
     },
     "execution_count": 23,
     "metadata": {},
     "output_type": "execute_result"
    }
   ],
   "source": [
    "s2-s1"
   ]
  },
  {
   "cell_type": "code",
   "execution_count": 24,
   "metadata": {},
   "outputs": [],
   "source": [
    "from collections import defaultdict\n",
    "\n",
    "text = \"Deine so nicht vaterland blieb mund denkst, klingt du mir's perlet die. Du du an lieb wilde, geschaut gesellschaft dich wo sanft vaterland dahinten du großer glaube, bester du was.\""
   ]
  },
  {
   "cell_type": "code",
   "execution_count": 25,
   "metadata": {},
   "outputs": [],
   "source": [
    "de = defaultdict(lambda : 0)"
   ]
  },
  {
   "cell_type": "code",
   "execution_count": 26,
   "metadata": {},
   "outputs": [
    {
     "data": {
      "text/plain": [
       "collections.defaultdict"
      ]
     },
     "execution_count": 26,
     "metadata": {},
     "output_type": "execute_result"
    }
   ],
   "source": [
    "type(de)"
   ]
  },
  {
   "cell_type": "code",
   "execution_count": 38,
   "metadata": {},
   "outputs": [],
   "source": [
    "text = \"If above he i or so unseen explore lost and and. I for that my each with the dream. And take peering meant soul. Wondering wandering shore of fancy no dreaming if soon by. Sign nevermore the with all lattice spoken word. That his lady of chamber oh whose spoke, of back thing but the my seraphim croaking said. Name tinkled wheeled on if least perched, rapping lamplight gently bird that into was, with burden to surely something by thrilled but at lost, dreaming thou fowl this bust. The by adore sainted faster though. Thrilled bird heard that and door stillness nevermore to. Raven the linking of curious both our ghastly. That your flirt dying lost at raven tapping have, of hath wished is yore. Memories wind then quaint is floor still answer sainted, more friends it of and me, more my heaven heart was tapping by above rustling cushions, the wished stepped no in, thee the sir and whispered all cannot spoke smiling, i that still cried ghastly she hauntedtell betook sainted that, shadow and and meant or and, that whether whether fantastic sitting. Within caught nightly chamber perched. That there remember at implore it sitting the more. What velvet marvelled something heart and turning. Reply or maiden separate on and the balm he, there did days engaged so, as shall yet once this leave a sat me, a shore thrilled core this the and here. Door he lamplight the over of be lordly lenore that. Plume door but not i saintly and she. Nevermore the undaunted thrilled hauntedtell nepenthe. Nevermore gloating a with we sinking thou get sat, my felt you demons god methought. Your and darkness violet nepenthe, entreating kind echo whom gently some entreating, fiend fancy of flitting chamber said thee over with. Shrieked more angels door he something be unhappy word while, i what vainly lenore tapping. Unbroken implore that whether and word art at memories, bird echo deep all doubting not thee of, lattice of i the ungainly purple this than fowl. The a let ease above placid grim, i word of expressing me. Scarce maiden only upon bosoms than, entreating that me silence oh the never angels beating ever, the this and me as mefilled the raven has now. Our that lenore sainted stately stillness not distinctly some now. Maiden gently quoth into muttered, as said at by chamber tapping merely that ah the, mortals said enchanted the rapping name bosoms plutonian of the, did and master but but no devil our the, and still ember the maiden this moment. Scarcely name chamber shore upstarting agreeing, methought i from and if books seeing spoken evilprophet, truly over lost ungainly he entreating. My or merely dying i nothing the, uttered the the the explore this pallas quaff chamber bird, mystery his thing chamber leave hopes as my my oh, the decorum as meaninglittle soul, sitting the spoke heard being, i and him the as separate december and hopes. Nights me myself fancy louder god mystery liftednevermore shore sculptured, is i beguiling seeing to my again ah dirges. By or his no floor tapping door my upon, still dreaming than sad the my, nevermore lenore yore being said sent, this floor unhappy soul aptly gloated his so. Thy pallas soul with flown more then nepenthe. That violet such this shutter of linking quaint. Smiling much help shall tempest word for hath. Door bore and and of my tempter my his. Longer is here door and reclining chamber was and the. We lamplight you ashore stern door than. Than liftednevermore name stronger air gently back, then flitting my lie that not, flirt name aptly bird thee prophet one the there front. Mefilled fluttered from core quaff beguiling soul lamplight stately, sure the here sought never wandering crest velvet purple was, be shorn this and chamber thing chamber and adore. Home unbrokenquit nevernevermore thing yet i, and the when the soul chamber than and if, purple but bird sitting nevermore fancy mien many wandering only. No quaff on this me, this i the truly he before said dreams, my the sought thy spoken and purple but. Midnight weak so on if flown smiling fiend in the, demons ah and and volume engaged till shore wished. Bird no a what was. Entreating when here angels name lent. It what bust shutter soul shadow raven lenore name, nothing he said this the master door thinking, uncertain him the of devil of. Wished flutter on something nothing on had. Stern of prophet or raven, wondering cried if before or there soul a word. Said what tapping in shore prophet reply take wondering the. This angels i uttered syllable my. This door only pallas beguiling the yet angels from name, and god dreaming evilprophet that burned into or quoth some, yore throws form god devil that ungainly his whose ever. Nevernevermore till be shall raven she, was bird of in and unto this me, the thy midnight core my, fancy nothing bird aptly implore, was now door the we all this. And flutter sitting the bird peering of i god. Sure i nothing scarcely and quoth bore songs, my to soul sinking each nothing and above more, sorrow yet my late still i, upon lonely hopes faintly the that. Name raven my undaunted soul by. Before the floor upon with truly my thinking. Perfumed door thy explore merely then i in was till, lady books to entrance to burned or. Above thereat stronger soul have sign of. Beguiling name volume in above that the, whispered yore some fancy me, sitting sorrowsorrow the never being discourse my raven. No chamber seat guessing burden stock on hath, morrow whispered and word clasp, into said chamber raven this vainly, curtain leave i our plutonian entrance. Be ever darkness is this i i bird. Of grim but heaven for and, methought so fluttered the home. Wished lining i air floor angels and our, i the the the on we so purple stillness, door i perched.\""
   ]
  },
  {
   "cell_type": "code",
   "execution_count": 39,
   "metadata": {},
   "outputs": [],
   "source": [
    "for t in text.lower().split() :\n",
    "    de[t] += 1\n",
    "  "
   ]
  },
  {
   "cell_type": "code",
   "execution_count": 46,
   "metadata": {},
   "outputs": [],
   "source": [
    "de_ls = []\n",
    "\n",
    "for k, v in de.items() :\n",
    "    de_ls.append([k, v])"
   ]
  },
  {
   "cell_type": "code",
   "execution_count": 49,
   "metadata": {},
   "outputs": [],
   "source": [
    "def getKey(item) :\n",
    "    return item[1]"
   ]
  },
  {
   "cell_type": "code",
   "execution_count": 51,
   "metadata": {},
   "outputs": [
    {
     "data": {
      "text/plain": [
       "[['the', 133],\n",
       " ['and', 109],\n",
       " ['i', 65],\n",
       " ['my', 53],\n",
       " ['of', 53],\n",
       " ['this', 52],\n",
       " ['that', 47],\n",
       " ['chamber', 39],\n",
       " ['door', 37],\n",
       " ['soul', 27],\n",
       " ['bird', 26],\n",
       " ['on', 24],\n",
       " ['or', 24],\n",
       " ['said', 23],\n",
       " ['name', 22],\n",
       " ['but', 21],\n",
       " ['raven', 20],\n",
       " ['no', 19],\n",
       " ['angels', 18],\n",
       " ['as', 18],\n",
       " ['a', 18],\n",
       " ['shore', 18],\n",
       " ['he', 18],\n",
       " ['nothing', 18],\n",
       " ['with', 18],\n",
       " ['fancy', 18],\n",
       " ['the,', 18],\n",
       " ['if', 17],\n",
       " ['above', 17],\n",
       " ['nevermore', 16],\n",
       " ['in', 15],\n",
       " ['lenore', 15],\n",
       " ['was', 15],\n",
       " ['still', 15],\n",
       " ['at', 15],\n",
       " ['tapping', 15],\n",
       " ['is', 15],\n",
       " ['floor', 15],\n",
       " ['his', 15],\n",
       " ['word', 15],\n",
       " ['to', 15],\n",
       " ['me,', 15],\n",
       " ['sitting', 15],\n",
       " ['purple', 15],\n",
       " ['by', 14],\n",
       " ['be', 14],\n",
       " ['what', 14],\n",
       " ['into', 12],\n",
       " ['then', 12],\n",
       " ['lamplight', 12],\n",
       " ['there', 12],\n",
       " ['something', 12],\n",
       " ['all', 12],\n",
       " ['so', 12],\n",
       " ['more', 12],\n",
       " ['thing', 12],\n",
       " ['dreaming', 12],\n",
       " ['gently', 12],\n",
       " ['thee', 12],\n",
       " ['yet', 12],\n",
       " ['god', 12],\n",
       " ['our', 11],\n",
       " ['thy', 11],\n",
       " ['than', 11],\n",
       " ['thrilled', 11],\n",
       " ['maiden', 11],\n",
       " ['we', 11],\n",
       " ['beguiling', 11],\n",
       " ['wished', 10],\n",
       " ['from', 9],\n",
       " ['never', 9],\n",
       " ['over', 9],\n",
       " ['quaff', 9],\n",
       " ['leave', 9],\n",
       " ['ah', 9],\n",
       " ['prophet', 9],\n",
       " ['here', 9],\n",
       " ['explore', 9],\n",
       " ['not', 9],\n",
       " ['yore', 9],\n",
       " ['for', 9],\n",
       " ['lost', 9],\n",
       " ['wandering', 9],\n",
       " ['spoken', 9],\n",
       " ['sainted', 9],\n",
       " ['whispered', 9],\n",
       " ['whether', 9],\n",
       " ['shall', 9],\n",
       " ['core', 9],\n",
       " ['some', 9],\n",
       " ['ungainly', 9],\n",
       " ['upon', 9],\n",
       " ['me', 9],\n",
       " ['quoth', 9],\n",
       " ['merely', 9],\n",
       " ['devil', 9],\n",
       " ['truly', 9],\n",
       " ['pallas', 9],\n",
       " ['aptly', 9],\n",
       " ['wondering', 8],\n",
       " ['it', 8],\n",
       " ['entreating', 8],\n",
       " ['before', 8],\n",
       " ['peering', 6],\n",
       " ['that.', 6],\n",
       " ['was,', 6],\n",
       " ['only', 6],\n",
       " ['i,', 6],\n",
       " ['cried', 6],\n",
       " ['plutonian', 6],\n",
       " ['flown', 6],\n",
       " ['rapping', 6],\n",
       " ['till', 6],\n",
       " ['shutter', 6],\n",
       " ['bore', 6],\n",
       " ['hopes', 6],\n",
       " ['heart', 6],\n",
       " ['bosoms', 6],\n",
       " ['you', 6],\n",
       " ['dying', 6],\n",
       " ['air', 6],\n",
       " ['shadow', 6],\n",
       " ['velvet', 6],\n",
       " ['each', 6],\n",
       " ['take', 6],\n",
       " ['meant', 6],\n",
       " ['by.', 6],\n",
       " ['lattice', 6],\n",
       " ['word.', 6],\n",
       " ['lady', 6],\n",
       " ['oh', 6],\n",
       " ['whose', 6],\n",
       " ['burden', 6],\n",
       " ['thou', 6],\n",
       " ['heard', 6],\n",
       " ['stillness', 6],\n",
       " ['linking', 6],\n",
       " ['flirt', 6],\n",
       " ['heaven', 6],\n",
       " ['spoke', 6],\n",
       " ['hauntedtell', 6],\n",
       " ['and,', 6],\n",
       " ['perched.', 6],\n",
       " ['implore', 6],\n",
       " ['separate', 6],\n",
       " ['did', 6],\n",
       " ['engaged', 6],\n",
       " ['undaunted', 6],\n",
       " ['nepenthe.', 6],\n",
       " ['sinking', 6],\n",
       " ['demons', 6],\n",
       " ['darkness', 6],\n",
       " ['violet', 6],\n",
       " ['echo', 6],\n",
       " ['fiend', 6],\n",
       " ['flitting', 6],\n",
       " ['unhappy', 6],\n",
       " ['now.', 6],\n",
       " ['master', 6],\n",
       " ['methought', 6],\n",
       " ['books', 6],\n",
       " ['seeing', 6],\n",
       " ['uttered', 6],\n",
       " ['mystery', 6],\n",
       " ['him', 6],\n",
       " ['liftednevermore', 6],\n",
       " ['my,', 6],\n",
       " ['being', 6],\n",
       " ['the.', 6],\n",
       " ['stronger', 6],\n",
       " ['fluttered', 6],\n",
       " ['sought', 6],\n",
       " ['when', 6],\n",
       " ['volume', 6],\n",
       " ['name,', 6],\n",
       " ['of.', 6],\n",
       " ['flutter', 6],\n",
       " ['burned', 6],\n",
       " ['your', 5],\n",
       " ['mefilled', 5],\n",
       " ['stern', 5],\n",
       " ['sure', 5],\n",
       " ['nevernevermore', 5],\n",
       " ['smiling', 5],\n",
       " ['reply', 5],\n",
       " ['midnight', 5],\n",
       " ['scarcely', 5],\n",
       " ['sign', 5],\n",
       " ['That', 4],\n",
       " ['with.', 3],\n",
       " ['bust', 3],\n",
       " ['shorn', 3],\n",
       " ['weak', 3],\n",
       " ['whom', 3],\n",
       " ['fowl', 3],\n",
       " ['both', 3],\n",
       " ['late', 3],\n",
       " ['again', 3],\n",
       " ['distinctly', 3],\n",
       " ['tinkled', 3],\n",
       " ['gloated', 3],\n",
       " ['sir', 3],\n",
       " ['deep', 3],\n",
       " ['saintly', 3],\n",
       " ['and.', 3],\n",
       " ['back', 3],\n",
       " ['soon', 3],\n",
       " ['discourse', 3],\n",
       " ['vainly', 3],\n",
       " ['meaninglittle', 3],\n",
       " ['many', 3],\n",
       " ['mortals', 3],\n",
       " ['one', 3],\n",
       " ['raven,', 3],\n",
       " ['now', 3],\n",
       " ['back,', 3],\n",
       " ['curious', 3],\n",
       " ['silence', 3],\n",
       " ['croaking', 3],\n",
       " ['my.', 3],\n",
       " ['morrow', 3],\n",
       " ['curtain', 3],\n",
       " ['doubting', 3],\n",
       " ['only.', 3],\n",
       " ['tempest', 3],\n",
       " ['unseen', 3],\n",
       " ['dream.', 3],\n",
       " ['soul.', 3],\n",
       " ['spoke,', 3],\n",
       " ['seraphim', 3],\n",
       " ['said.', 3],\n",
       " ['wheeled', 3],\n",
       " ['least', 3],\n",
       " ['perched,', 3],\n",
       " ['surely', 3],\n",
       " ['lost,', 3],\n",
       " ['bust.', 3],\n",
       " ['adore', 3],\n",
       " ['faster', 3],\n",
       " ['though.', 3],\n",
       " ['to.', 3],\n",
       " ['ghastly.', 3],\n",
       " ['have,', 3],\n",
       " ['hath', 3],\n",
       " ['yore.', 3],\n",
       " ['wind', 3],\n",
       " ['quaint', 3],\n",
       " ['answer', 3],\n",
       " ['sainted,', 3],\n",
       " ['friends', 3],\n",
       " ['rustling', 3],\n",
       " ['cushions,', 3],\n",
       " ['stepped', 3],\n",
       " ['in,', 3],\n",
       " ['cannot', 3],\n",
       " ['smiling,', 3],\n",
       " ['ghastly', 3],\n",
       " ['she', 3],\n",
       " ['betook', 3],\n",
       " ['that,', 3],\n",
       " ['fantastic', 3],\n",
       " ['sitting.', 3],\n",
       " ['caught', 3],\n",
       " ['nightly', 3],\n",
       " ['remember', 3],\n",
       " ['more.', 3],\n",
       " ['marvelled', 3],\n",
       " ['turning.', 3],\n",
       " ['balm', 3],\n",
       " ['he,', 3],\n",
       " ['days', 3],\n",
       " ['so,', 3],\n",
       " ['once', 3],\n",
       " ['sat', 3],\n",
       " ['here.', 3],\n",
       " ['lordly', 3],\n",
       " ['she.', 3],\n",
       " ['gloating', 3],\n",
       " ['get', 3],\n",
       " ['sat,', 3],\n",
       " ['felt', 3],\n",
       " ['methought.', 3],\n",
       " ['nepenthe,', 3],\n",
       " ['kind', 3],\n",
       " ['entreating,', 3],\n",
       " ['while,', 3],\n",
       " ['tapping.', 3],\n",
       " ['art', 3],\n",
       " ['memories,', 3],\n",
       " ['of,', 3],\n",
       " ['fowl.', 3],\n",
       " ['let', 3],\n",
       " ['ease', 3],\n",
       " ['placid', 3],\n",
       " ['grim,', 3],\n",
       " ['expressing', 3],\n",
       " ['me.', 3],\n",
       " ['than,', 3],\n",
       " ['beating', 3],\n",
       " ['ever,', 3],\n",
       " ['has', 3],\n",
       " ['stately', 3],\n",
       " ['muttered,', 3],\n",
       " ['enchanted', 3],\n",
       " ['ember', 3],\n",
       " ['moment.', 3],\n",
       " ['upstarting', 3],\n",
       " ['agreeing,', 3],\n",
       " ['evilprophet,', 3],\n",
       " ['entreating.', 3],\n",
       " ['bird,', 3],\n",
       " ['oh,', 3],\n",
       " ['decorum', 3],\n",
       " ['soul,', 3],\n",
       " ['being,', 3],\n",
       " ['december', 3],\n",
       " ['hopes.', 3],\n",
       " ['myself', 3],\n",
       " ['louder', 3],\n",
       " ['sculptured,', 3],\n",
       " ['dirges.', 3],\n",
       " ['upon,', 3],\n",
       " ['sad', 3],\n",
       " ['sent,', 3],\n",
       " ['so.', 3],\n",
       " ['such', 3],\n",
       " ['quaint.', 3],\n",
       " ['much', 3],\n",
       " ['help', 3],\n",
       " ['hath.', 3],\n",
       " ['tempter', 3],\n",
       " ['his.', 3],\n",
       " ['reclining', 3],\n",
       " ['ashore', 3],\n",
       " ['than.', 3],\n",
       " ['lie', 3],\n",
       " ['not,', 3],\n",
       " ['front.', 3],\n",
       " ['stately,', 3],\n",
       " ['crest', 3],\n",
       " ['adore.', 3],\n",
       " ['unbrokenquit', 3],\n",
       " ['if,', 3],\n",
       " ['mien', 3],\n",
       " ['dreams,', 3],\n",
       " ['but.', 3],\n",
       " ['wished.', 3],\n",
       " ['was.', 3],\n",
       " ['lent.', 3],\n",
       " ['thinking,', 3],\n",
       " ['uncertain', 3],\n",
       " ['had.', 3],\n",
       " ['syllable', 3],\n",
       " ['evilprophet', 3],\n",
       " ['some,', 3],\n",
       " ['throws', 3],\n",
       " ['form', 3],\n",
       " ['ever.', 3],\n",
       " ['she,', 3],\n",
       " ['unto', 3],\n",
       " ['implore,', 3],\n",
       " ['this.', 3],\n",
       " ['god.', 3],\n",
       " ['songs,', 3],\n",
       " ['more,', 3],\n",
       " ['sorrow', 3],\n",
       " ['lonely', 3],\n",
       " ['faintly', 3],\n",
       " ['thinking.', 3],\n",
       " ['till,', 3],\n",
       " ['entrance', 3],\n",
       " ['or.', 3],\n",
       " ['thereat', 3],\n",
       " ['have', 3],\n",
       " ['sorrowsorrow', 3],\n",
       " ['raven.', 3],\n",
       " ['seat', 3],\n",
       " ['guessing', 3],\n",
       " ['stock', 3],\n",
       " ['hath,', 3],\n",
       " ['clasp,', 3],\n",
       " ['vainly,', 3],\n",
       " ['entrance.', 3],\n",
       " ['ever', 3],\n",
       " ['bird.', 3],\n",
       " ['grim', 3],\n",
       " ['home.', 3],\n",
       " ['lining', 3],\n",
       " ['our,', 3],\n",
       " ['stillness,', 3],\n",
       " ['The', 2],\n",
       " ['nights', 2],\n",
       " ['home', 2],\n",
       " ['And', 2],\n",
       " ['This', 2],\n",
       " ['No', 2],\n",
       " ['shrieked', 2],\n",
       " ['Nevermore', 2],\n",
       " ['scarce', 2],\n",
       " ['Name', 2],\n",
       " ['Door', 2],\n",
       " ['Wished', 2],\n",
       " ['memories', 2],\n",
       " ['within', 2],\n",
       " ['plume', 2],\n",
       " ['unbroken', 2],\n",
       " ['longer', 2],\n",
       " ['perfumed', 2],\n",
       " ['Before', 1],\n",
       " ['Thy', 1],\n",
       " ['By', 1],\n",
       " ['If', 1],\n",
       " ['I', 1],\n",
       " ['Wondering', 1],\n",
       " ['Sign', 1],\n",
       " ['Thrilled', 1],\n",
       " ['Raven', 1],\n",
       " ['Memories', 1],\n",
       " ['Within', 1],\n",
       " ['What', 1],\n",
       " ['Reply', 1],\n",
       " ['Plume', 1],\n",
       " ['Your', 1],\n",
       " ['Shrieked', 1],\n",
       " ['Unbroken', 1],\n",
       " ['Scarce', 1],\n",
       " ['Our', 1],\n",
       " ['Maiden', 1],\n",
       " ['Scarcely', 1],\n",
       " ['My', 1],\n",
       " ['Nights', 1],\n",
       " ['Smiling', 1],\n",
       " ['Longer', 1],\n",
       " ['We', 1],\n",
       " ['Than', 1],\n",
       " ['Mefilled', 1],\n",
       " ['Home', 1],\n",
       " ['Midnight', 1],\n",
       " ['Bird', 1],\n",
       " ['Entreating', 1],\n",
       " ['It', 1],\n",
       " ['Stern', 1],\n",
       " ['Said', 1],\n",
       " ['Nevernevermore', 1],\n",
       " ['Sure', 1],\n",
       " ['Perfumed', 1],\n",
       " ['Above', 1],\n",
       " ['Beguiling', 1],\n",
       " ['Be', 1],\n",
       " ['Of', 1],\n",
       " ['Never', 0],\n",
       " ['tell', 0],\n",
       " ['stayed', 0],\n",
       " ['heaven,', 0],\n",
       " ['countenance', 0],\n",
       " ['Stood', 0],\n",
       " ['shaven', 0],\n",
       " ['oer', 0],\n",
       " ['came', 0],\n",
       " ['as,', 0],\n",
       " ['from.', 0],\n",
       " ['radiant', 0],\n",
       " ['this,', 0],\n",
       " ['napping.', 0],\n",
       " ['Burden', 0],\n",
       " ['bore,', 0],\n",
       " ['perched', 0],\n",
       " ['startled', 0],\n",
       " ['before,', 0],\n",
       " ['its', 0],\n",
       " ['grim.', 0],\n",
       " ['doubtless', 0],\n",
       " ['hope', 0],\n",
       " ['minute,', 0],\n",
       " ['craven', 0],\n",
       " ['gaunt', 0],\n",
       " ['Dreaming', 0],\n",
       " ['melancholy', 0],\n",
       " ['nevernevermore,', 0],\n",
       " ['dream', 0],\n",
       " ['lent', 0],\n",
       " ['floating.', 0],\n",
       " ['Betook', 0],\n",
       " ['madam', 0],\n",
       " ['myself,', 0],\n",
       " ['name.', 0],\n",
       " ['Agreeing', 0],\n",
       " ['aidenn', 0],\n",
       " ['pallas.', 0],\n",
       " ['be.', 0],\n",
       " ['Saintly', 0],\n",
       " ['nearly', 0],\n",
       " ['said,', 0],\n",
       " ['before.', 0],\n",
       " ['Quaff', 0],\n",
       " ['rare,', 0],\n",
       " ['just', 0],\n",
       " ['above.', 0],\n",
       " ['pallid', 0],\n",
       " ['off', 0],\n",
       " ['muttered', 0],\n",
       " ['ominous', 0],\n",
       " ['A', 0],\n",
       " ['at,', 0],\n",
       " ['cushioned', 0],\n",
       " ['usby', 0],\n",
       " ['ancient,', 0],\n",
       " ['utters', 0],\n",
       " ['a.', 0],\n",
       " ['Blessed', 0],\n",
       " ['tinkled,', 0],\n",
       " ['least,', 0],\n",
       " ['followed', 0],\n",
       " ['sign.', 0],\n",
       " ['Bleak.', 0]]"
      ]
     },
     "execution_count": 51,
     "metadata": {},
     "output_type": "execute_result"
    }
   ],
   "source": [
    "sorted_de = sorted(de_ls, key=getKey, reverse=True)\n",
    "\n",
    "sorted_de"
   ]
  },
  {
   "cell_type": "code",
   "execution_count": 39,
   "metadata": {},
   "outputs": [],
   "source": [
    "## 복습!\n",
    "\n",
    "txt = \"That linking me unbroken i here, made lenore than countenance napping a stepped, a word so shall smiling wore a so the. Yore lenore door unbrokenquit some angels of the a again. Plutonian as above is my was and, of i curtain beguiling horror respiterespite into by no is. Above with faster and explore said, nevernevermore my whispered and least vainly a mien, maiden that what was whom came mortals. And window cried help sorrowsorrow outpour my grave for. And dreams nevermore i my ungainly with word. Rustling devil shrieked gently my. Devil laden then the seraphim the ungainly my with by, a feather remember no word i, the raven ever nameless radiant only uncertain nevermore, entreating or my core while tapping land feather lenore. So still aidenn but bird i, this nevermore forget all did the on one, door cushioned cushions bird not he beguiling sure midnight maiden, its hesitating with surely nights yet my, and but whose for the door what said velvet, pallas nightly into for never, the censer denser never floor perched and yet streaming bust, said came for cushioned and lining, evermore this shall in denser of, ashore perched and streaming just of reply, no and and form core ghost oer then. There upon deep the was the. Guessing eyes days when but sorrow feather the door soul, is for bird a the head on. Clasp home me only than sitting store here, much made engaged soul leave at and ah thing my, whose tis above no gave of. Till unmerciful be angels nevermore wheeled he burden whom distant. Myself theeby from this entrance perched beast. Is door all wrought to, wheeled black but laden myself the. With napping this answer chamber. Lenore made bends little forget floor plutonian, the he only but sad chamber thy. Plutonian friends above sitting he lattice from. Plume tell this above see bleak. The tis said maiden lenore so the living, that flutter soul lenore as curious my, leave kind usby surely open that dying flitting a, ominous borrow no and crest muttered lining thy, doubtless door one nepenthe what napping whose, of that such his upstarting liftednevermore that sculptured, borrow word napping maiden above that explore, desert its the fowl thee placid. I feather grim thee but, the the name radiant forgotten, the the here nevermore youhere quoth whom that, youhere this of perched burden a no lord thy, this or on lady just is the bird bends i. Lent of thing my then bird into yet, angels chamber sad fancy and raven. Engaged burning had velvet terrors i living living, broken bust raven that and that curtain till other and. A the the and shall spoken croaking thereis. Bleak throws my back the plutonian still door and, the youhere flown i little, here leave name craven nepenthe. I is tis plutonian my morrow of the of his, bird yet soul merely yet rare rare, dying nevermore me word what fancy unbroken and. Seeming fluttered i art while that spoken front the more. He be tempter soul distinctly violet, god nevermore i on the. Fact relevancy this get my plutonian. Maiden then chamber such token long pallas as i and. Had my dreaming that back lie flown surely my louder, whom more black stillness i and lost before. So friends meant window wandering but, though both or some hath its grim. My the thereis though volume, a door eyes adore the grew uttered, i of seeming grim by on. Fast meaninglittle these your the the oer in, tossed gaunt quoth one art said sat, lining placid but undaunted ebony then forget, implore a chamber thee bird that eagerly out methought ember. The leave and no this the. The on not raven she, ever i stayed whispered thee. I other this no nevermore lenore smiling. Its unto air nevermore thy. I nevermore i chamber ungainly felt nevermore, his the of wretch stillness there nodded rapping sad ghost, there from above nevermore eyes being and and this. There this fancy nothing gileadtell the. Plutonian chamber we raven only still thy hesitating. Not that see many was door nepenthe it that. His uncertain songs a over before merely take. Sad nevermore radiant is flirt usby was me. Wretch bust the the tapping with on tis raven, the and each devil blessed what there never nevermore angels, tinkled a still uttered beast head just bore dirges, i door then flirt more hope, raven mystery burning linking the or grim sad smiling my, straight ease grim not then that. Or visiter my tinkled my lost, the i flown only one, burned on parting word silence, the hath visiter and bird, mortals devil said the door ghost for bore tempest, denser it my each his raven and separate lining, the a my that and front the craven darkness upstarting. Ominous above then shorn obeisance soul till the violet came, and thee mien me and see head mystery that. Nevermore fiend this dreaming at wondering reclining if was. Theeby the beguiling soul sign unmerciful window nothing oh shaven. Of on the over sat. Desert beak that of seeming that, followed nothing me no seeing. Land and above wore vainly moment then said. Is theeby and bore and the, by rapping borrow thy broken. Raven plume metell perfumed i she something. Much came at darkness and thy, only tempest his streaming wheeled core. Tapping there token back my darkness heaven so chamber, clasp the for other from, flitting dreary nepenthe now smiling, into and chamber raven soul i burning desolate. One velvet wore bore ungainly raven perched bird my angels. More i floor demons or god an a lenore, a theeby shall art tell i, louder soul quaff i than soul sitting uttered and heaven. With meaninglittle beast and door, mystery undaunted some flitting uncertain it. Lenore hear grim sought oh that burning more and we, and he terrors floor there whether. Many this of me surely, beguiling and napping cushioned and ah again the ominous. I aptly hath friends memories nothing before a sitting hauntedtell. The chamber and and deep the repeating and the, within sinking raven heart balm some a i. Thereis bird wretch his so, out door darkness morrow lenore once, only parting silken tapping what this stock leave if not, is no quoth stopped and i gave, truly above at yet have. And the at our above entrance above raven press only. Velvet one that shore with no. Fantastic the to bore have the on minute, before i rare my raven the plume bust and. This but i said tufted that gloating bust. Stock the has fact sign i floor shadow minute, i loneliness it i of divining fast soul. Ah at home nevermore hope fast ungainly help. Now me bosoms name a, and burden there long cushions did. The maiden the i gloating. Of this bust bends hopes the. As of that and i the and i chamber. So the and at above entrance i, upon shore quoth upon the there the than, tempter air thee fast desert visiter, with startled the while aptly stock yore horror head. A distinctly there fast back thereis i from discourse, the and a followed then. Nearly but broken nevermore flitting from you is that. As stern the no all. With bird stronger upon at some by still and me, angels of louder beating no being. In reply a only stock of it. Some thy door still and rustling maiden craven that, this from sad of and soul the i radiant. Quoth door shaven my but pallid, wandering echo but morrow borrow bird. On thy then has bird not napping art and, ominous my fiend press of whom came and was some, again yore ghastly whose ancient sat and above quaff with. Denser ease lamplight i his. Nothing he borrow was still devil. Chamber many metell the prophet lamplight the kind radiant lenore. Whispered and then more the a the fancy. Of but evilprophet he stately to and this that, of door soul floating fancy upon. From the or soul on said it by denser, streaming is fiery from a all and. Fast for its opened grew least. December enchanted from me chamber my stern wondering beguiling that, rustling above madam usby or lenore that and, me long door some these bird you this. Lining this kind velvet sorrow the the off all. As long fearing sat on truly sat, you december grim i syllable, silence nothing this of thee he i to, floor or other of bust. Liftednevermore stood lies or my. My thy doubting gently ebony of. At morrow relevancy just here the me stronger lenore, me nodded pallas the a seeming back sitting, entreating on at hath thy on it lost raven velvet. Not as before above above fancy upon uncertain lenore memories. Fluttered the this on obeisance tis there turning lordly the, bleak ah a chamber only, lamplight dream nevernevermore from door on door reclining and, i bust bird or is his the. This devil forgotten living from. Shadow when within i followed gloating was. Door radiant there explore something out leave only thy. The soul sure one broken explore the beak. Thou the being as gently and this thy deep, the this opened an of then radiant art, decorum the silken a some from. Dream unto for from leave, hope of ease broken nevermore. From the burning morrow presently the felt. For him the yore in ominous seeming. Beating bust and nevermore opened again, upon my i i there but the i, rustling but you rustling shall. I and more soul no of not. Or the is upon a my whispered, tis at chamber the nevermore radiant. Tell that bust have floor as meaninglittle i. Shore wished demons master lenore scarcely, broken lady his being the no heard burden came, madam quoth thy leave the maiden bird fiery nodded lies. Name and so flown heaven, pallas ancient bore plutonian only, and suddenly and at above to, upon shall at door outpour, the floor core flown something as for perfumed, implore that bust some my rare what, hear here this for wore memories nepenthe feather quoth, shutter of is thy gaunt only, that silence and door of so. And tis ghastly take ominous nothing desert be if my. Censer sculptured i my silken hope into if. Was cushioned bust is bore, hath or placid he be i. Hesitating the lady wide whom that clasp or. Answer fiend wretch no or, velvet i raven but take. At came tis tell bends this visiter tufted the syllable. Was just this fancy velvet nothing nothing, human dreaming these what raven flitting stronger thee. Of we straight into be me broken chamber bird. To if this raven the startled chamber seat into. I as reclining floor oer. He then grew caught sorrowsorrow and stillness an yore. Head no dreaming rapping whether myself on. The above nothing lining sculptured is on a this, store on me surely i and balm when surcease adore. Stock that chamber being the many nothing i living door. Shore that above what was with my dying at, stately and distant tinkled is shore. No youhere sure lenore pallas. And flown lenore upon uttered implore tapping bird whose and, me nothing thinking and on forget volume not but shore. Upon burned is i implore me sat tapping here upon. Its darkness mortals opened came, the some upon quoth decorum thereat here. Ancient what separate just all. Tinkled floor a this pallas nights me by i. That a raven the and thing darkness a, the many the while i i demons of some my. Nepenthe distinctly my one i said followed nevermore, me a press floor maiden mefilled. Mystery more stood books upon to divining you, upon into ghastly the whether. Chamber dreaming here if evilprophet bird by that, thing nameless our a books bird lattice visiter take. Ominous quoth land reclining eyes denser my ghost at, had censer his curious from. Metell or disaster the songs dreaming flung sent. Thy bust that relevancy out and fiery plutonian. There straight dream all lining for with before. Tempest off stayed yore the the. Volume ghastly his him the into sad footfalls, store but the feather this the, he my of unbroken my. By raven be at we then, be thereat i said that. Engaged flung mortals beak memories minute. Me of that as rapping lies, never heard on quoth raven. Perched sad the once theeby wheeled spoken above. His a that what i and lenore raven tinkled window. Word smiling and he and beguiling word at the. Meant rare unto songs word, a beast said has nameless heard, decorum peering one of that. That there before broken bird. The and bird and above craven desert nevermore balm, sat aidenn maiden peering theeby. Perfumed once and minute no, footfalls fantastic nevermore name little sorrowsorrow and. Of of tis here nothing wandering grew plutonian. Door implore door oer ah lady and me but yore, seraphim fiery felt the with never, straight chamber aidenn from wheeled, then napping ominous turning no by each, of bird meaninglittle raven ease the, the door a stronger me from. What no the thy a by, he the before visiter gently. Balm grim wide soul store the throws chamber he. Silence leave stayed visiter chamber at no terrors. Aptly grew wrought i above word at my so above. There liftednevermore smiling long he evermore. And meaninglittle sad unbrokenquit unhappy sat i gently relevancy, quoth and ember of cushioned i and door to oer, oh no raven each feather perched gloated yet, beak on meaninglittle this of reply, the some such saintly and evermore heard chamber as. Nights my there here the that some i i. Gently stopped that or curious hath lamplight tis yore. Flung but with this chamber black. Flitting lattice from plume stepped parting silken never and, to fowl doubting more bird croaking mystery. Repeating his decorum your door expressing chamber shrieked one whether, sinking heart chamber that nevermore his, distinctly have the a desert, store home doubting lies soul. Name more its and a and croaking murmured i discourse, raven terrors bird my back the, some many fearing my said muttered that flown. Thy lenore wretch is little from plutonian its grim, felt thy a ghost while ah, lore one decorum visiter nepenthe master. Soul still as and lenore a yore youhere. A thrilled of said land we chamber on, home weak with sat chamber the faintly form, hauntedtell the my dying wind the ah wretch sure to, i bore songs tis and weak bust the him velvet, some with obeisance sure wondering, for or its ember the my on of be till, tell something chamber thou reply. At rapping more door ominous, nevermore dying eyes its be the with tis on, memories chamber my name thee door forgiveness soul long on. Heard name human beak shall then. My wide opened you tis, raven this thy door i perched unseen ghastly as door. Air there surely than lamplight the only i quoth. What of the crest reclining startled. That implore or unmerciful perched lent. Rustling bore the from and hopes came my. With hath it leave lost the whether shaven sainted, ungainly sat entreating broken dreaming. But memories rustling fancy and head napping. Nightly no fancy let ever much uncertain. Mortals shorn upon this leave than into the of of. Above the chamber purple token, sorrowsorrow no farther chamber of the marvelled purple, tis hesitating lenore at leave entrance theeby store respiterespite. Sad maiden grim least adore other i to on. On sorrow raven raven nevermore god chamber, unto so that tis but that sculptured, this me heart and stillness shadows ungainly a, with both tempest my kind lamplight morrow the soul just, countenance that metell flown fast ghastly dying that. Back nothing a entrance burning in i the. My croaking and kind and above of i quoth, uttered on this muttered the sad the a. So nothing quoth mefilled name over swung lore, nodded the nothing some came word stately. On she door nevermore door gloated and that nameless or. The swung to she fact burden, was air the prophet is is i bleak, expressing oer doubtless will uncertain napping reply raven kind. Spoken that shall into of ominous what fowl of stood. Its of heaven token an, the of quoth stood door, i lamplight and of but within more all, napping on dying air door ghastly chamber rapping with his, darkness dared whose this forget is back. One the be land i that linking that, then dreaming rare this beating. Name i sat he and. My lenore the what censer silken fiery fowl the, but rare this word lenore land as enchanted when the. Is than but before such terrors repeating, weak my this as lenore, remember a entreating prophet heart door tis air. So door bleak that surcease soon chamber for violet, yet there of door take as a nepenthe more, the on the yore the we. Heart and violet nightly rare over. Napping it it if his of, the truly beguiling as tufted came again ever sculptured, but ominous the the lenore borrow no then that, leave implore shutter visiter the and. Straight yore nothing truly then bird above than just the, in and lost the came burden something now. Our within weak soul tossed i raven on. This for till and was whom as nights sitting sitting. Said tufted only the meant black. Linking chamber flown within the made and me syllable smiling. Off napping floor perfumed the now if let. Heaven name as divining turning. This be came only i balm by. Thy nights then this but censer. Quoth said me as lies and that by eagerly lenore, nevermore lenore said and said name still one. But explore weary outpour door only on my unbrokenquit. Forget i there it denser wind chamber bleak, door yet into nothing my of name nodded door that,.\""
   ]
  },
  {
   "cell_type": "code",
   "execution_count": 41,
   "metadata": {},
   "outputs": [
    {
     "data": {
      "text/plain": [
       "['that',\n",
       " 'linking',\n",
       " 'me',\n",
       " 'unbroken',\n",
       " 'i',\n",
       " 'here',\n",
       " 'made',\n",
       " 'lenore',\n",
       " 'than',\n",
       " 'countenance',\n",
       " 'napping',\n",
       " 'a',\n",
       " 'stepped',\n",
       " 'a',\n",
       " 'word',\n",
       " 'so',\n",
       " 'shall',\n",
       " 'smiling',\n",
       " 'wore',\n",
       " 'a',\n",
       " 'so',\n",
       " 'the',\n",
       " 'yore',\n",
       " 'lenore',\n",
       " 'door',\n",
       " 'unbrokenquit',\n",
       " 'some',\n",
       " 'angels',\n",
       " 'of',\n",
       " 'the',\n",
       " 'a',\n",
       " 'again',\n",
       " 'plutonian',\n",
       " 'as',\n",
       " 'above',\n",
       " 'is',\n",
       " 'my',\n",
       " 'was',\n",
       " 'and',\n",
       " 'of',\n",
       " 'i',\n",
       " 'curtain',\n",
       " 'beguiling',\n",
       " 'horror',\n",
       " 'respiterespite',\n",
       " 'into',\n",
       " 'by',\n",
       " 'no',\n",
       " 'is',\n",
       " 'above',\n",
       " 'with',\n",
       " 'faster',\n",
       " 'and',\n",
       " 'explore',\n",
       " 'said',\n",
       " 'nevernevermore',\n",
       " 'my',\n",
       " 'whispered',\n",
       " 'and',\n",
       " 'least',\n",
       " 'vainly',\n",
       " 'a',\n",
       " 'mien',\n",
       " 'maiden',\n",
       " 'that',\n",
       " 'what',\n",
       " 'was',\n",
       " 'whom',\n",
       " 'came',\n",
       " 'mortals',\n",
       " 'and',\n",
       " 'window',\n",
       " 'cried',\n",
       " 'help',\n",
       " 'sorrowsorrow',\n",
       " 'outpour',\n",
       " 'my',\n",
       " 'grave',\n",
       " 'for',\n",
       " 'and',\n",
       " 'dreams',\n",
       " 'nevermore',\n",
       " 'i',\n",
       " 'my',\n",
       " 'ungainly',\n",
       " 'with',\n",
       " 'word',\n",
       " 'rustling',\n",
       " 'devil',\n",
       " 'shrieked',\n",
       " 'gently',\n",
       " 'my',\n",
       " 'devil',\n",
       " 'laden',\n",
       " 'then',\n",
       " 'the',\n",
       " 'seraphim',\n",
       " 'the',\n",
       " 'ungainly',\n",
       " 'my',\n",
       " 'with',\n",
       " 'by',\n",
       " 'a',\n",
       " 'feather',\n",
       " 'remember',\n",
       " 'no',\n",
       " 'word',\n",
       " 'i',\n",
       " 'the',\n",
       " 'raven',\n",
       " 'ever',\n",
       " 'nameless',\n",
       " 'radiant',\n",
       " 'only',\n",
       " 'uncertain',\n",
       " 'nevermore',\n",
       " 'entreating',\n",
       " 'or',\n",
       " 'my',\n",
       " 'core',\n",
       " 'while',\n",
       " 'tapping',\n",
       " 'land',\n",
       " 'feather',\n",
       " 'lenore',\n",
       " 'so',\n",
       " 'still',\n",
       " 'aidenn',\n",
       " 'but',\n",
       " 'bird',\n",
       " 'i',\n",
       " 'this',\n",
       " 'nevermore',\n",
       " 'forget',\n",
       " 'all',\n",
       " 'did',\n",
       " 'the',\n",
       " 'on',\n",
       " 'one',\n",
       " 'door',\n",
       " 'cushioned',\n",
       " 'cushions',\n",
       " 'bird',\n",
       " 'not',\n",
       " 'he',\n",
       " 'beguiling',\n",
       " 'sure',\n",
       " 'midnight',\n",
       " 'maiden',\n",
       " 'its',\n",
       " 'hesitating',\n",
       " 'with',\n",
       " 'surely',\n",
       " 'nights',\n",
       " 'yet',\n",
       " 'my',\n",
       " 'and',\n",
       " 'but',\n",
       " 'whose',\n",
       " 'for',\n",
       " 'the',\n",
       " 'door',\n",
       " 'what',\n",
       " 'said',\n",
       " 'velvet',\n",
       " 'pallas',\n",
       " 'nightly',\n",
       " 'into',\n",
       " 'for',\n",
       " 'never',\n",
       " 'the',\n",
       " 'censer',\n",
       " 'denser',\n",
       " 'never',\n",
       " 'floor',\n",
       " 'perched',\n",
       " 'and',\n",
       " 'yet',\n",
       " 'streaming',\n",
       " 'bust',\n",
       " 'said',\n",
       " 'came',\n",
       " 'for',\n",
       " 'cushioned',\n",
       " 'and',\n",
       " 'lining',\n",
       " 'evermore',\n",
       " 'this',\n",
       " 'shall',\n",
       " 'in',\n",
       " 'denser',\n",
       " 'of',\n",
       " 'ashore',\n",
       " 'perched',\n",
       " 'and',\n",
       " 'streaming',\n",
       " 'just',\n",
       " 'of',\n",
       " 'reply',\n",
       " 'no',\n",
       " 'and',\n",
       " 'and',\n",
       " 'form',\n",
       " 'core',\n",
       " 'ghost',\n",
       " 'oer',\n",
       " 'then',\n",
       " 'there',\n",
       " 'upon',\n",
       " 'deep',\n",
       " 'the',\n",
       " 'was',\n",
       " 'the',\n",
       " 'guessing',\n",
       " 'eyes',\n",
       " 'days',\n",
       " 'when',\n",
       " 'but',\n",
       " 'sorrow',\n",
       " 'feather',\n",
       " 'the',\n",
       " 'door',\n",
       " 'soul',\n",
       " 'is',\n",
       " 'for',\n",
       " 'bird',\n",
       " 'a',\n",
       " 'the',\n",
       " 'head',\n",
       " 'on',\n",
       " 'clasp',\n",
       " 'home',\n",
       " 'me',\n",
       " 'only',\n",
       " 'than',\n",
       " 'sitting',\n",
       " 'store',\n",
       " 'here',\n",
       " 'much',\n",
       " 'made',\n",
       " 'engaged',\n",
       " 'soul',\n",
       " 'leave',\n",
       " 'at',\n",
       " 'and',\n",
       " 'ah',\n",
       " 'thing',\n",
       " 'my',\n",
       " 'whose',\n",
       " 'tis',\n",
       " 'above',\n",
       " 'no',\n",
       " 'gave',\n",
       " 'of',\n",
       " 'till',\n",
       " 'unmerciful',\n",
       " 'be',\n",
       " 'angels',\n",
       " 'nevermore',\n",
       " 'wheeled',\n",
       " 'he',\n",
       " 'burden',\n",
       " 'whom',\n",
       " 'distant',\n",
       " 'myself',\n",
       " 'theeby',\n",
       " 'from',\n",
       " 'this',\n",
       " 'entrance',\n",
       " 'perched',\n",
       " 'beast',\n",
       " 'is',\n",
       " 'door',\n",
       " 'all',\n",
       " 'wrought',\n",
       " 'to',\n",
       " 'wheeled',\n",
       " 'black',\n",
       " 'but',\n",
       " 'laden',\n",
       " 'myself',\n",
       " 'the',\n",
       " 'with',\n",
       " 'napping',\n",
       " 'this',\n",
       " 'answer',\n",
       " 'chamber',\n",
       " 'lenore',\n",
       " 'made',\n",
       " 'bends',\n",
       " 'little',\n",
       " 'forget',\n",
       " 'floor',\n",
       " 'plutonian',\n",
       " 'the',\n",
       " 'he',\n",
       " 'only',\n",
       " 'but',\n",
       " 'sad',\n",
       " 'chamber',\n",
       " 'thy',\n",
       " 'plutonian',\n",
       " 'friends',\n",
       " 'above',\n",
       " 'sitting',\n",
       " 'he',\n",
       " 'lattice',\n",
       " 'from',\n",
       " 'plume',\n",
       " 'tell',\n",
       " 'this',\n",
       " 'above',\n",
       " 'see',\n",
       " 'bleak',\n",
       " 'the',\n",
       " 'tis',\n",
       " 'said',\n",
       " 'maiden',\n",
       " 'lenore',\n",
       " 'so',\n",
       " 'the',\n",
       " 'living',\n",
       " 'that',\n",
       " 'flutter',\n",
       " 'soul',\n",
       " 'lenore',\n",
       " 'as',\n",
       " 'curious',\n",
       " 'my',\n",
       " 'leave',\n",
       " 'kind',\n",
       " 'usby',\n",
       " 'surely',\n",
       " 'open',\n",
       " 'that',\n",
       " 'dying',\n",
       " 'flitting',\n",
       " 'a',\n",
       " 'ominous',\n",
       " 'borrow',\n",
       " 'no',\n",
       " 'and',\n",
       " 'crest',\n",
       " 'muttered',\n",
       " 'lining',\n",
       " 'thy',\n",
       " 'doubtless',\n",
       " 'door',\n",
       " 'one',\n",
       " 'nepenthe',\n",
       " 'what',\n",
       " 'napping',\n",
       " 'whose',\n",
       " 'of',\n",
       " 'that',\n",
       " 'such',\n",
       " 'his',\n",
       " 'upstarting',\n",
       " 'liftednevermore',\n",
       " 'that',\n",
       " 'sculptured',\n",
       " 'borrow',\n",
       " 'word',\n",
       " 'napping',\n",
       " 'maiden',\n",
       " 'above',\n",
       " 'that',\n",
       " 'explore',\n",
       " 'desert',\n",
       " 'its',\n",
       " 'the',\n",
       " 'fowl',\n",
       " 'thee',\n",
       " 'placid',\n",
       " 'i',\n",
       " 'feather',\n",
       " 'grim',\n",
       " 'thee',\n",
       " 'but',\n",
       " 'the',\n",
       " 'the',\n",
       " 'name',\n",
       " 'radiant',\n",
       " 'forgotten',\n",
       " 'the',\n",
       " 'the',\n",
       " 'here',\n",
       " 'nevermore',\n",
       " 'youhere',\n",
       " 'quoth',\n",
       " 'whom',\n",
       " 'that',\n",
       " 'youhere',\n",
       " 'this',\n",
       " 'of',\n",
       " 'perched',\n",
       " 'burden',\n",
       " 'a',\n",
       " 'no',\n",
       " 'lord',\n",
       " 'thy',\n",
       " 'this',\n",
       " 'or',\n",
       " 'on',\n",
       " 'lady',\n",
       " 'just',\n",
       " 'is',\n",
       " 'the',\n",
       " 'bird',\n",
       " 'bends',\n",
       " 'i',\n",
       " 'lent',\n",
       " 'of',\n",
       " 'thing',\n",
       " 'my',\n",
       " 'then',\n",
       " 'bird',\n",
       " 'into',\n",
       " 'yet',\n",
       " 'angels',\n",
       " 'chamber',\n",
       " 'sad',\n",
       " 'fancy',\n",
       " 'and',\n",
       " 'raven',\n",
       " 'engaged',\n",
       " 'burning',\n",
       " 'had',\n",
       " 'velvet',\n",
       " 'terrors',\n",
       " 'i',\n",
       " 'living',\n",
       " 'living',\n",
       " 'broken',\n",
       " 'bust',\n",
       " 'raven',\n",
       " 'that',\n",
       " 'and',\n",
       " 'that',\n",
       " 'curtain',\n",
       " 'till',\n",
       " 'other',\n",
       " 'and',\n",
       " 'a',\n",
       " 'the',\n",
       " 'the',\n",
       " 'and',\n",
       " 'shall',\n",
       " 'spoken',\n",
       " 'croaking',\n",
       " 'thereis',\n",
       " 'bleak',\n",
       " 'throws',\n",
       " 'my',\n",
       " 'back',\n",
       " 'the',\n",
       " 'plutonian',\n",
       " 'still',\n",
       " 'door',\n",
       " 'and',\n",
       " 'the',\n",
       " 'youhere',\n",
       " 'flown',\n",
       " 'i',\n",
       " 'little',\n",
       " 'here',\n",
       " 'leave',\n",
       " 'name',\n",
       " 'craven',\n",
       " 'nepenthe',\n",
       " 'i',\n",
       " 'is',\n",
       " 'tis',\n",
       " 'plutonian',\n",
       " 'my',\n",
       " 'morrow',\n",
       " 'of',\n",
       " 'the',\n",
       " 'of',\n",
       " 'his',\n",
       " 'bird',\n",
       " 'yet',\n",
       " 'soul',\n",
       " 'merely',\n",
       " 'yet',\n",
       " 'rare',\n",
       " 'rare',\n",
       " 'dying',\n",
       " 'nevermore',\n",
       " 'me',\n",
       " 'word',\n",
       " 'what',\n",
       " 'fancy',\n",
       " 'unbroken',\n",
       " 'and',\n",
       " 'seeming',\n",
       " 'fluttered',\n",
       " 'i',\n",
       " 'art',\n",
       " 'while',\n",
       " 'that',\n",
       " 'spoken',\n",
       " 'front',\n",
       " 'the',\n",
       " 'more',\n",
       " 'he',\n",
       " 'be',\n",
       " 'tempter',\n",
       " 'soul',\n",
       " 'distinctly',\n",
       " 'violet',\n",
       " 'god',\n",
       " 'nevermore',\n",
       " 'i',\n",
       " 'on',\n",
       " 'the',\n",
       " 'fact',\n",
       " 'relevancy',\n",
       " 'this',\n",
       " 'get',\n",
       " 'my',\n",
       " 'plutonian',\n",
       " 'maiden',\n",
       " 'then',\n",
       " 'chamber',\n",
       " 'such',\n",
       " 'token',\n",
       " 'long',\n",
       " 'pallas',\n",
       " 'as',\n",
       " 'i',\n",
       " 'and',\n",
       " 'had',\n",
       " 'my',\n",
       " 'dreaming',\n",
       " 'that',\n",
       " 'back',\n",
       " 'lie',\n",
       " 'flown',\n",
       " 'surely',\n",
       " 'my',\n",
       " 'louder',\n",
       " 'whom',\n",
       " 'more',\n",
       " 'black',\n",
       " 'stillness',\n",
       " 'i',\n",
       " 'and',\n",
       " 'lost',\n",
       " 'before',\n",
       " 'so',\n",
       " 'friends',\n",
       " 'meant',\n",
       " 'window',\n",
       " 'wandering',\n",
       " 'but',\n",
       " 'though',\n",
       " 'both',\n",
       " 'or',\n",
       " 'some',\n",
       " 'hath',\n",
       " 'its',\n",
       " 'grim',\n",
       " 'my',\n",
       " 'the',\n",
       " 'thereis',\n",
       " 'though',\n",
       " 'volume',\n",
       " 'a',\n",
       " 'door',\n",
       " 'eyes',\n",
       " 'adore',\n",
       " 'the',\n",
       " 'grew',\n",
       " 'uttered',\n",
       " 'i',\n",
       " 'of',\n",
       " 'seeming',\n",
       " 'grim',\n",
       " 'by',\n",
       " 'on',\n",
       " 'fast',\n",
       " 'meaninglittle',\n",
       " 'these',\n",
       " 'your',\n",
       " 'the',\n",
       " 'the',\n",
       " 'oer',\n",
       " 'in',\n",
       " 'tossed',\n",
       " 'gaunt',\n",
       " 'quoth',\n",
       " 'one',\n",
       " 'art',\n",
       " 'said',\n",
       " 'sat',\n",
       " 'lining',\n",
       " 'placid',\n",
       " 'but',\n",
       " 'undaunted',\n",
       " 'ebony',\n",
       " 'then',\n",
       " 'forget',\n",
       " 'implore',\n",
       " 'a',\n",
       " 'chamber',\n",
       " 'thee',\n",
       " 'bird',\n",
       " 'that',\n",
       " 'eagerly',\n",
       " 'out',\n",
       " 'methought',\n",
       " 'ember',\n",
       " 'the',\n",
       " 'leave',\n",
       " 'and',\n",
       " 'no',\n",
       " 'this',\n",
       " 'the',\n",
       " 'the',\n",
       " 'on',\n",
       " 'not',\n",
       " 'raven',\n",
       " 'she',\n",
       " 'ever',\n",
       " 'i',\n",
       " 'stayed',\n",
       " 'whispered',\n",
       " 'thee',\n",
       " 'i',\n",
       " 'other',\n",
       " 'this',\n",
       " 'no',\n",
       " 'nevermore',\n",
       " 'lenore',\n",
       " 'smiling',\n",
       " 'its',\n",
       " 'unto',\n",
       " 'air',\n",
       " 'nevermore',\n",
       " 'thy',\n",
       " 'i',\n",
       " 'nevermore',\n",
       " 'i',\n",
       " 'chamber',\n",
       " 'ungainly',\n",
       " 'felt',\n",
       " 'nevermore',\n",
       " 'his',\n",
       " 'the',\n",
       " 'of',\n",
       " 'wretch',\n",
       " 'stillness',\n",
       " 'there',\n",
       " 'nodded',\n",
       " 'rapping',\n",
       " 'sad',\n",
       " 'ghost',\n",
       " 'there',\n",
       " 'from',\n",
       " 'above',\n",
       " 'nevermore',\n",
       " 'eyes',\n",
       " 'being',\n",
       " 'and',\n",
       " 'and',\n",
       " 'this',\n",
       " 'there',\n",
       " 'this',\n",
       " 'fancy',\n",
       " 'nothing',\n",
       " 'gileadtell',\n",
       " 'the',\n",
       " 'plutonian',\n",
       " 'chamber',\n",
       " 'we',\n",
       " 'raven',\n",
       " 'only',\n",
       " 'still',\n",
       " 'thy',\n",
       " 'hesitating',\n",
       " 'not',\n",
       " 'that',\n",
       " 'see',\n",
       " 'many',\n",
       " 'was',\n",
       " 'door',\n",
       " 'nepenthe',\n",
       " 'it',\n",
       " 'that',\n",
       " 'his',\n",
       " 'uncertain',\n",
       " 'songs',\n",
       " 'a',\n",
       " 'over',\n",
       " 'before',\n",
       " 'merely',\n",
       " 'take',\n",
       " 'sad',\n",
       " 'nevermore',\n",
       " 'radiant',\n",
       " 'is',\n",
       " 'flirt',\n",
       " 'usby',\n",
       " 'was',\n",
       " 'me',\n",
       " 'wretch',\n",
       " 'bust',\n",
       " 'the',\n",
       " 'the',\n",
       " 'tapping',\n",
       " 'with',\n",
       " 'on',\n",
       " 'tis',\n",
       " 'raven',\n",
       " 'the',\n",
       " 'and',\n",
       " 'each',\n",
       " 'devil',\n",
       " 'blessed',\n",
       " 'what',\n",
       " 'there',\n",
       " 'never',\n",
       " 'nevermore',\n",
       " 'angels',\n",
       " 'tinkled',\n",
       " 'a',\n",
       " 'still',\n",
       " 'uttered',\n",
       " 'beast',\n",
       " 'head',\n",
       " 'just',\n",
       " 'bore',\n",
       " 'dirges',\n",
       " 'i',\n",
       " 'door',\n",
       " 'then',\n",
       " 'flirt',\n",
       " 'more',\n",
       " 'hope',\n",
       " 'raven',\n",
       " 'mystery',\n",
       " 'burning',\n",
       " 'linking',\n",
       " 'the',\n",
       " 'or',\n",
       " 'grim',\n",
       " 'sad',\n",
       " 'smiling',\n",
       " 'my',\n",
       " 'straight',\n",
       " 'ease',\n",
       " 'grim',\n",
       " 'not',\n",
       " 'then',\n",
       " 'that',\n",
       " 'or',\n",
       " 'visiter',\n",
       " 'my',\n",
       " 'tinkled',\n",
       " 'my',\n",
       " 'lost',\n",
       " 'the',\n",
       " 'i',\n",
       " 'flown',\n",
       " 'only',\n",
       " 'one',\n",
       " 'burned',\n",
       " 'on',\n",
       " 'parting',\n",
       " 'word',\n",
       " 'silence',\n",
       " 'the',\n",
       " 'hath',\n",
       " 'visiter',\n",
       " 'and',\n",
       " 'bird',\n",
       " 'mortals',\n",
       " 'devil',\n",
       " 'said',\n",
       " 'the',\n",
       " 'door',\n",
       " 'ghost',\n",
       " 'for',\n",
       " 'bore',\n",
       " 'tempest',\n",
       " 'denser',\n",
       " 'it',\n",
       " 'my',\n",
       " 'each',\n",
       " 'his',\n",
       " 'raven',\n",
       " 'and',\n",
       " 'separate',\n",
       " 'lining',\n",
       " 'the',\n",
       " 'a',\n",
       " 'my',\n",
       " 'that',\n",
       " 'and',\n",
       " 'front',\n",
       " 'the',\n",
       " 'craven',\n",
       " 'darkness',\n",
       " 'upstarting',\n",
       " 'ominous',\n",
       " 'above',\n",
       " 'then',\n",
       " 'shorn',\n",
       " 'obeisance',\n",
       " 'soul',\n",
       " 'till',\n",
       " 'the',\n",
       " 'violet',\n",
       " 'came',\n",
       " 'and',\n",
       " 'thee',\n",
       " 'mien',\n",
       " 'me',\n",
       " 'and',\n",
       " 'see',\n",
       " 'head',\n",
       " 'mystery',\n",
       " 'that',\n",
       " 'nevermore',\n",
       " 'fiend',\n",
       " 'this',\n",
       " 'dreaming',\n",
       " 'at',\n",
       " 'wondering',\n",
       " 'reclining',\n",
       " 'if',\n",
       " 'was',\n",
       " 'theeby',\n",
       " 'the',\n",
       " 'beguiling',\n",
       " 'soul',\n",
       " 'sign',\n",
       " 'unmerciful',\n",
       " 'window',\n",
       " 'nothing',\n",
       " 'oh',\n",
       " 'shaven',\n",
       " 'of',\n",
       " 'on',\n",
       " 'the',\n",
       " 'over',\n",
       " 'sat',\n",
       " 'desert',\n",
       " 'beak',\n",
       " 'that',\n",
       " 'of',\n",
       " 'seeming',\n",
       " 'that',\n",
       " 'followed',\n",
       " 'nothing',\n",
       " 'me',\n",
       " 'no',\n",
       " 'seeing',\n",
       " 'land',\n",
       " 'and',\n",
       " 'above',\n",
       " 'wore',\n",
       " 'vainly',\n",
       " 'moment',\n",
       " 'then',\n",
       " 'said',\n",
       " 'is',\n",
       " 'theeby',\n",
       " 'and',\n",
       " 'bore',\n",
       " 'and',\n",
       " 'the',\n",
       " 'by',\n",
       " 'rapping',\n",
       " 'borrow',\n",
       " 'thy',\n",
       " 'broken',\n",
       " 'raven',\n",
       " 'plume',\n",
       " 'metell',\n",
       " 'perfumed',\n",
       " 'i',\n",
       " 'she',\n",
       " 'something',\n",
       " 'much',\n",
       " 'came',\n",
       " 'at',\n",
       " 'darkness',\n",
       " 'and',\n",
       " 'thy',\n",
       " 'only',\n",
       " 'tempest',\n",
       " 'his',\n",
       " 'streaming',\n",
       " 'wheeled',\n",
       " 'core',\n",
       " 'tapping',\n",
       " 'there',\n",
       " 'token',\n",
       " 'back',\n",
       " 'my',\n",
       " 'darkness',\n",
       " 'heaven',\n",
       " 'so',\n",
       " 'chamber',\n",
       " 'clasp',\n",
       " 'the',\n",
       " 'for',\n",
       " 'other',\n",
       " 'from',\n",
       " 'flitting',\n",
       " 'dreary',\n",
       " 'nepenthe',\n",
       " 'now',\n",
       " 'smiling',\n",
       " 'into',\n",
       " 'and',\n",
       " 'chamber',\n",
       " 'raven',\n",
       " 'soul',\n",
       " 'i',\n",
       " 'burning',\n",
       " 'desolate',\n",
       " 'one',\n",
       " 'velvet',\n",
       " 'wore',\n",
       " 'bore',\n",
       " 'ungainly',\n",
       " 'raven',\n",
       " 'perched',\n",
       " 'bird',\n",
       " 'my',\n",
       " 'angels',\n",
       " 'more',\n",
       " 'i',\n",
       " 'floor',\n",
       " 'demons',\n",
       " 'or',\n",
       " 'god',\n",
       " 'an',\n",
       " 'a',\n",
       " 'lenore',\n",
       " 'a',\n",
       " 'theeby',\n",
       " 'shall',\n",
       " 'art',\n",
       " 'tell',\n",
       " 'i',\n",
       " 'louder',\n",
       " 'soul',\n",
       " 'quaff',\n",
       " 'i',\n",
       " 'than',\n",
       " 'soul',\n",
       " 'sitting',\n",
       " 'uttered',\n",
       " 'and',\n",
       " 'heaven',\n",
       " 'with',\n",
       " 'meaninglittle',\n",
       " 'beast',\n",
       " 'and',\n",
       " 'door',\n",
       " 'mystery',\n",
       " 'undaunted',\n",
       " 'some',\n",
       " 'flitting',\n",
       " 'uncertain',\n",
       " 'it',\n",
       " 'lenore',\n",
       " 'hear',\n",
       " 'grim',\n",
       " 'sought',\n",
       " 'oh',\n",
       " 'that',\n",
       " 'burning',\n",
       " 'more',\n",
       " 'and',\n",
       " 'we',\n",
       " 'and',\n",
       " 'he',\n",
       " 'terrors',\n",
       " 'floor',\n",
       " 'there',\n",
       " 'whether',\n",
       " 'many',\n",
       " 'this',\n",
       " 'of',\n",
       " 'me',\n",
       " 'surely',\n",
       " 'beguiling',\n",
       " 'and',\n",
       " 'napping',\n",
       " 'cushioned',\n",
       " 'and',\n",
       " 'ah',\n",
       " 'again',\n",
       " 'the',\n",
       " 'ominous',\n",
       " ...]"
      ]
     },
     "execution_count": 41,
     "metadata": {},
     "output_type": "execute_result"
    }
   ],
   "source": [
    "setup_txt = txt.lower().replace(',','').replace('.','').split()\n",
    "setup_txt"
   ]
  },
  {
   "cell_type": "code",
   "execution_count": 42,
   "metadata": {},
   "outputs": [
    {
     "data": {
      "text/plain": [
       "0"
      ]
     },
     "execution_count": 42,
     "metadata": {},
     "output_type": "execute_result"
    }
   ],
   "source": [
    "from collections import defaultdict\n",
    "\n",
    "de = defaultdict(lambda : 0)\n",
    "de[\"first\"]\n"
   ]
  },
  {
   "cell_type": "code",
   "execution_count": 51,
   "metadata": {},
   "outputs": [
    {
     "data": {
      "text/plain": [
       "{'first': 0,\n",
       " 'that': 120,\n",
       " 'linking': 8,\n",
       " 'me': 50,\n",
       " 'unbroken': 6,\n",
       " 'i': 164,\n",
       " 'here': 22,\n",
       " 'made': 8,\n",
       " 'lenore': 54,\n",
       " 'than': 16,\n",
       " 'countenance': 4,\n",
       " 'napping': 24,\n",
       " 'a': 98,\n",
       " 'stepped': 4,\n",
       " 'word': 24,\n",
       " 'so': 28,\n",
       " 'shall': 16,\n",
       " 'smiling': 14,\n",
       " 'wore': 8,\n",
       " 'the': 328,\n",
       " 'yore': 22,\n",
       " 'door': 84,\n",
       " 'unbrokenquit': 6,\n",
       " 'some': 34,\n",
       " 'angels': 12,\n",
       " 'of': 114,\n",
       " 'again': 10,\n",
       " 'plutonian': 22,\n",
       " 'as': 44,\n",
       " 'above': 54,\n",
       " 'is': 46,\n",
       " 'my': 112,\n",
       " 'was': 28,\n",
       " 'and': 222,\n",
       " 'curtain': 4,\n",
       " 'beguiling': 14,\n",
       " 'horror': 4,\n",
       " 'respiterespite': 4,\n",
       " 'into': 24,\n",
       " 'by': 26,\n",
       " 'no': 52,\n",
       " 'with': 42,\n",
       " 'faster': 2,\n",
       " 'explore': 10,\n",
       " 'said': 36,\n",
       " 'nevernevermore': 4,\n",
       " 'whispered': 8,\n",
       " 'least': 6,\n",
       " 'vainly': 4,\n",
       " 'mien': 4,\n",
       " 'maiden': 22,\n",
       " 'what': 30,\n",
       " 'whom': 14,\n",
       " 'came': 26,\n",
       " 'mortals': 10,\n",
       " 'window': 8,\n",
       " 'cried': 2,\n",
       " 'help': 4,\n",
       " 'sorrowsorrow': 8,\n",
       " 'outpour': 6,\n",
       " 'grave': 2,\n",
       " 'for': 32,\n",
       " 'dreams': 2,\n",
       " 'nevermore': 56,\n",
       " 'ungainly': 14,\n",
       " 'rustling': 14,\n",
       " 'devil': 12,\n",
       " 'shrieked': 4,\n",
       " 'gently': 12,\n",
       " 'laden': 4,\n",
       " 'then': 42,\n",
       " 'seraphim': 4,\n",
       " 'feather': 14,\n",
       " 'remember': 4,\n",
       " 'raven': 60,\n",
       " 'ever': 8,\n",
       " 'nameless': 8,\n",
       " 'radiant': 16,\n",
       " 'only': 34,\n",
       " 'uncertain': 12,\n",
       " 'entreating': 8,\n",
       " 'or': 40,\n",
       " 'core': 8,\n",
       " 'while': 10,\n",
       " 'tapping': 12,\n",
       " 'land': 12,\n",
       " 'still': 18,\n",
       " 'aidenn': 6,\n",
       " 'but': 56,\n",
       " 'bird': 52,\n",
       " 'this': 92,\n",
       " 'forget': 12,\n",
       " 'all': 16,\n",
       " 'did': 4,\n",
       " 'on': 70,\n",
       " 'one': 26,\n",
       " 'cushioned': 10,\n",
       " 'cushions': 4,\n",
       " 'not': 18,\n",
       " 'he': 34,\n",
       " 'sure': 10,\n",
       " 'midnight': 2,\n",
       " 'its': 22,\n",
       " 'hesitating': 8,\n",
       " 'surely': 12,\n",
       " 'nights': 10,\n",
       " 'yet': 18,\n",
       " 'whose': 12,\n",
       " 'velvet': 18,\n",
       " 'pallas': 12,\n",
       " 'nightly': 6,\n",
       " 'never': 12,\n",
       " 'censer': 10,\n",
       " 'denser': 14,\n",
       " 'floor': 24,\n",
       " 'perched': 18,\n",
       " 'streaming': 8,\n",
       " 'bust': 28,\n",
       " 'lining': 14,\n",
       " 'evermore': 6,\n",
       " 'in': 12,\n",
       " 'ashore': 2,\n",
       " 'just': 16,\n",
       " 'reply': 10,\n",
       " 'form': 4,\n",
       " 'ghost': 10,\n",
       " 'oer': 12,\n",
       " 'there': 40,\n",
       " 'upon': 32,\n",
       " 'deep': 6,\n",
       " 'guessing': 2,\n",
       " 'eyes': 10,\n",
       " 'days': 2,\n",
       " 'when': 8,\n",
       " 'sorrow': 6,\n",
       " 'soul': 44,\n",
       " 'head': 12,\n",
       " 'clasp': 6,\n",
       " 'home': 8,\n",
       " 'sitting': 14,\n",
       " 'store': 12,\n",
       " 'much': 6,\n",
       " 'engaged': 6,\n",
       " 'leave': 26,\n",
       " 'at': 44,\n",
       " 'ah': 14,\n",
       " 'thing': 8,\n",
       " 'tis': 32,\n",
       " 'gave': 4,\n",
       " 'till': 10,\n",
       " 'unmerciful': 6,\n",
       " 'be': 22,\n",
       " 'wheeled': 10,\n",
       " 'burden': 12,\n",
       " 'distant': 4,\n",
       " 'myself': 6,\n",
       " 'theeby': 14,\n",
       " 'from': 42,\n",
       " 'entrance': 10,\n",
       " 'beast': 8,\n",
       " 'wrought': 4,\n",
       " 'to': 24,\n",
       " 'black': 8,\n",
       " 'answer': 4,\n",
       " 'chamber': 74,\n",
       " 'bends': 8,\n",
       " 'little': 8,\n",
       " 'sad': 22,\n",
       " 'thy': 42,\n",
       " 'friends': 6,\n",
       " 'lattice': 6,\n",
       " 'plume': 8,\n",
       " 'tell': 10,\n",
       " 'see': 6,\n",
       " 'bleak': 12,\n",
       " 'living': 10,\n",
       " 'flutter': 2,\n",
       " 'curious': 6,\n",
       " 'kind': 12,\n",
       " 'usby': 6,\n",
       " 'open': 2,\n",
       " 'dying': 14,\n",
       " 'flitting': 12,\n",
       " 'ominous': 22,\n",
       " 'borrow': 12,\n",
       " 'crest': 4,\n",
       " 'muttered': 6,\n",
       " 'doubtless': 4,\n",
       " 'nepenthe': 16,\n",
       " 'such': 8,\n",
       " 'his': 34,\n",
       " 'upstarting': 4,\n",
       " 'liftednevermore': 6,\n",
       " 'sculptured': 10,\n",
       " 'desert': 12,\n",
       " 'fowl': 8,\n",
       " 'thee': 18,\n",
       " 'placid': 6,\n",
       " 'grim': 20,\n",
       " 'name': 26,\n",
       " 'forgotten': 4,\n",
       " 'youhere': 10,\n",
       " 'quoth': 32,\n",
       " 'lord': 2,\n",
       " 'lady': 8,\n",
       " 'lent': 4,\n",
       " 'fancy': 18,\n",
       " 'burning': 12,\n",
       " 'had': 6,\n",
       " 'terrors': 10,\n",
       " 'broken': 18,\n",
       " 'other': 10,\n",
       " 'spoken': 8,\n",
       " 'croaking': 8,\n",
       " 'thereis': 8,\n",
       " 'throws': 4,\n",
       " 'back': 16,\n",
       " 'flown': 18,\n",
       " 'craven': 8,\n",
       " 'morrow': 12,\n",
       " 'merely': 4,\n",
       " 'rare': 16,\n",
       " 'seeming': 10,\n",
       " 'fluttered': 4,\n",
       " 'art': 10,\n",
       " 'front': 4,\n",
       " 'more': 26,\n",
       " 'tempter': 4,\n",
       " 'distinctly': 8,\n",
       " 'violet': 8,\n",
       " 'god': 6,\n",
       " 'fact': 6,\n",
       " 'relevancy': 8,\n",
       " 'get': 2,\n",
       " 'token': 8,\n",
       " 'long': 12,\n",
       " 'dreaming': 16,\n",
       " 'lie': 2,\n",
       " 'louder': 6,\n",
       " 'stillness': 8,\n",
       " 'lost': 10,\n",
       " 'before': 18,\n",
       " 'meant': 6,\n",
       " 'wandering': 6,\n",
       " 'though': 4,\n",
       " 'both': 4,\n",
       " 'hath': 14,\n",
       " 'volume': 6,\n",
       " 'adore': 6,\n",
       " 'grew': 10,\n",
       " 'uttered': 10,\n",
       " 'fast': 14,\n",
       " 'meaninglittle': 12,\n",
       " 'these': 6,\n",
       " 'your': 4,\n",
       " 'tossed': 4,\n",
       " 'gaunt': 4,\n",
       " 'sat': 22,\n",
       " 'undaunted': 4,\n",
       " 'ebony': 4,\n",
       " 'implore': 14,\n",
       " 'eagerly': 4,\n",
       " 'out': 8,\n",
       " 'methought': 2,\n",
       " 'ember': 6,\n",
       " 'she': 8,\n",
       " 'stayed': 6,\n",
       " 'unto': 8,\n",
       " 'air': 12,\n",
       " 'felt': 8,\n",
       " 'wretch': 12,\n",
       " 'nodded': 10,\n",
       " 'rapping': 12,\n",
       " 'being': 10,\n",
       " 'nothing': 36,\n",
       " 'gileadtell': 2,\n",
       " 'we': 12,\n",
       " 'many': 12,\n",
       " 'it': 22,\n",
       " 'songs': 8,\n",
       " 'over': 8,\n",
       " 'take': 10,\n",
       " 'flirt': 4,\n",
       " 'each': 8,\n",
       " 'blessed': 2,\n",
       " 'tinkled': 10,\n",
       " 'bore': 18,\n",
       " 'dirges': 2,\n",
       " 'hope': 8,\n",
       " 'mystery': 10,\n",
       " 'straight': 10,\n",
       " 'ease': 8,\n",
       " 'visiter': 18,\n",
       " 'burned': 4,\n",
       " 'parting': 6,\n",
       " 'silence': 8,\n",
       " 'tempest': 8,\n",
       " 'separate': 4,\n",
       " 'darkness': 14,\n",
       " 'shorn': 4,\n",
       " 'obeisance': 6,\n",
       " 'fiend': 6,\n",
       " 'wondering': 6,\n",
       " 'reclining': 10,\n",
       " 'if': 16,\n",
       " 'sign': 4,\n",
       " 'oh': 6,\n",
       " 'shaven': 6,\n",
       " 'beak': 10,\n",
       " 'followed': 8,\n",
       " 'seeing': 2,\n",
       " 'moment': 2,\n",
       " 'metell': 8,\n",
       " 'perfumed': 8,\n",
       " 'something': 10,\n",
       " 'heaven': 10,\n",
       " 'dreary': 2,\n",
       " 'now': 8,\n",
       " 'desolate': 2,\n",
       " 'demons': 6,\n",
       " 'an': 8,\n",
       " 'quaff': 4,\n",
       " 'hear': 4,\n",
       " 'sought': 2,\n",
       " 'whether': 10,\n",
       " 'aptly': 6,\n",
       " 'memories': 12,\n",
       " 'hauntedtell': 4,\n",
       " 'repeating': 6,\n",
       " 'within': 10,\n",
       " 'sinking': 4,\n",
       " 'heart': 10,\n",
       " 'balm': 10,\n",
       " 'once': 6,\n",
       " 'silken': 10,\n",
       " 'stock': 10,\n",
       " 'stopped': 4,\n",
       " 'truly': 8,\n",
       " 'have': 8,\n",
       " 'our': 6,\n",
       " 'press': 6,\n",
       " 'shore': 12,\n",
       " 'fantastic': 4,\n",
       " 'minute': 8,\n",
       " 'tufted': 8,\n",
       " 'gloating': 6,\n",
       " 'has': 6,\n",
       " 'shadow': 4,\n",
       " 'loneliness': 2,\n",
       " 'divining': 6,\n",
       " 'bosoms': 2,\n",
       " 'hopes': 4,\n",
       " 'startled': 6,\n",
       " 'discourse': 4,\n",
       " 'nearly': 2,\n",
       " 'you': 12,\n",
       " 'stern': 4,\n",
       " 'stronger': 8,\n",
       " 'beating': 6,\n",
       " 'pallid': 2,\n",
       " 'echo': 2,\n",
       " 'ghastly': 14,\n",
       " 'ancient': 6,\n",
       " 'lamplight': 14,\n",
       " 'prophet': 6,\n",
       " 'evilprophet': 4,\n",
       " 'stately': 6,\n",
       " 'floating': 2,\n",
       " 'fiery': 10,\n",
       " 'opened': 10,\n",
       " 'december': 4,\n",
       " 'enchanted': 4,\n",
       " 'madam': 4,\n",
       " 'off': 6,\n",
       " 'fearing': 4,\n",
       " 'syllable': 6,\n",
       " 'stood': 8,\n",
       " 'lies': 10,\n",
       " 'doubting': 6,\n",
       " 'turning': 6,\n",
       " 'lordly': 2,\n",
       " 'dream': 6,\n",
       " 'thou': 4,\n",
       " 'decorum': 10,\n",
       " 'presently': 2,\n",
       " 'him': 6,\n",
       " 'wished': 2,\n",
       " 'master': 4,\n",
       " 'scarcely': 2,\n",
       " 'heard': 10,\n",
       " 'suddenly': 2,\n",
       " 'shutter': 4,\n",
       " 'wide': 6,\n",
       " 'human': 4,\n",
       " 'seat': 2,\n",
       " 'caught': 2,\n",
       " 'surcease': 4,\n",
       " 'thinking': 2,\n",
       " 'thereat': 4,\n",
       " 'mefilled': 4,\n",
       " 'books': 4,\n",
       " 'disaster': 2,\n",
       " 'flung': 6,\n",
       " 'sent': 2,\n",
       " 'footfalls': 4,\n",
       " 'peering': 4,\n",
       " 'unhappy': 2,\n",
       " 'gloated': 4,\n",
       " 'saintly': 2,\n",
       " 'expressing': 4,\n",
       " 'murmured': 2,\n",
       " 'lore': 4,\n",
       " 'thrilled': 2,\n",
       " 'weak': 8,\n",
       " 'faintly': 2,\n",
       " 'wind': 4,\n",
       " 'forgiveness': 2,\n",
       " 'unseen': 2,\n",
       " 'sainted': 2,\n",
       " 'let': 4,\n",
       " 'purple': 4,\n",
       " 'farther': 2,\n",
       " 'marvelled': 2,\n",
       " 'shadows': 2,\n",
       " 'swung': 4,\n",
       " 'will': 2,\n",
       " 'dared': 2,\n",
       " 'soon': 2,\n",
       " 'weary': 2}"
      ]
     },
     "execution_count": 51,
     "metadata": {},
     "output_type": "execute_result"
    }
   ],
   "source": [
    "for t in setup_txt :\n",
    "    de[t] += 1\n",
    "dict(de)"
   ]
  },
  {
   "cell_type": "code",
   "execution_count": 44,
   "metadata": {},
   "outputs": [],
   "source": [
    "def getKey(item) :\n",
    "    return item[1]"
   ]
  },
  {
   "cell_type": "code",
   "execution_count": 45,
   "metadata": {},
   "outputs": [],
   "source": [
    "ls_de = []\n",
    "for k, v in de.items() : # items 확인!@!@!@!@\n",
    "    ls_de.append([k, v])\n"
   ]
  },
  {
   "cell_type": "code",
   "execution_count": 52,
   "metadata": {},
   "outputs": [
    {
     "data": {
      "text/plain": [
       "[('the', 328),\n",
       " ('and', 222),\n",
       " ('i', 164),\n",
       " ('that', 120),\n",
       " ('of', 114),\n",
       " ('my', 112),\n",
       " ('a', 98),\n",
       " ('this', 92),\n",
       " ('door', 84),\n",
       " ('chamber', 74),\n",
       " ('on', 70),\n",
       " ('raven', 60),\n",
       " ('nevermore', 56),\n",
       " ('but', 56),\n",
       " ('lenore', 54),\n",
       " ('above', 54),\n",
       " ('no', 52),\n",
       " ('bird', 52),\n",
       " ('me', 50),\n",
       " ('is', 46),\n",
       " ('as', 44),\n",
       " ('soul', 44),\n",
       " ('at', 44),\n",
       " ('with', 42),\n",
       " ('then', 42),\n",
       " ('from', 42),\n",
       " ('thy', 42),\n",
       " ('or', 40),\n",
       " ('there', 40),\n",
       " ('said', 36),\n",
       " ('nothing', 36),\n",
       " ('some', 34),\n",
       " ('only', 34),\n",
       " ('he', 34),\n",
       " ('his', 34),\n",
       " ('for', 32),\n",
       " ('upon', 32),\n",
       " ('tis', 32),\n",
       " ('quoth', 32),\n",
       " ('what', 30),\n",
       " ('so', 28),\n",
       " ('was', 28),\n",
       " ('bust', 28),\n",
       " ('by', 26),\n",
       " ('came', 26),\n",
       " ('one', 26),\n",
       " ('leave', 26),\n",
       " ('name', 26),\n",
       " ('more', 26),\n",
       " ('napping', 24),\n",
       " ('word', 24),\n",
       " ('into', 24),\n",
       " ('floor', 24),\n",
       " ('to', 24),\n",
       " ('here', 22),\n",
       " ('yore', 22),\n",
       " ('plutonian', 22),\n",
       " ('maiden', 22),\n",
       " ('its', 22),\n",
       " ('be', 22),\n",
       " ('sad', 22),\n",
       " ('ominous', 22),\n",
       " ('sat', 22),\n",
       " ('it', 22),\n",
       " ('grim', 20),\n",
       " ('still', 18),\n",
       " ('not', 18),\n",
       " ('yet', 18),\n",
       " ('velvet', 18),\n",
       " ('perched', 18),\n",
       " ('thee', 18),\n",
       " ('fancy', 18),\n",
       " ('broken', 18),\n",
       " ('flown', 18),\n",
       " ('before', 18),\n",
       " ('bore', 18),\n",
       " ('visiter', 18),\n",
       " ('than', 16),\n",
       " ('shall', 16),\n",
       " ('radiant', 16),\n",
       " ('all', 16),\n",
       " ('just', 16),\n",
       " ('nepenthe', 16),\n",
       " ('back', 16),\n",
       " ('rare', 16),\n",
       " ('dreaming', 16),\n",
       " ('if', 16),\n",
       " ('smiling', 14),\n",
       " ('beguiling', 14),\n",
       " ('whom', 14),\n",
       " ('ungainly', 14),\n",
       " ('rustling', 14),\n",
       " ('feather', 14),\n",
       " ('denser', 14),\n",
       " ('lining', 14),\n",
       " ('sitting', 14),\n",
       " ('ah', 14),\n",
       " ('theeby', 14),\n",
       " ('dying', 14),\n",
       " ('hath', 14),\n",
       " ('fast', 14),\n",
       " ('implore', 14),\n",
       " ('darkness', 14),\n",
       " ('ghastly', 14),\n",
       " ('lamplight', 14),\n",
       " ('angels', 12),\n",
       " ('devil', 12),\n",
       " ('gently', 12),\n",
       " ('uncertain', 12),\n",
       " ('tapping', 12),\n",
       " ('land', 12),\n",
       " ('forget', 12),\n",
       " ('surely', 12),\n",
       " ('whose', 12),\n",
       " ('pallas', 12),\n",
       " ('never', 12),\n",
       " ('in', 12),\n",
       " ('oer', 12),\n",
       " ('head', 12),\n",
       " ('store', 12),\n",
       " ('burden', 12),\n",
       " ('bleak', 12),\n",
       " ('kind', 12),\n",
       " ('flitting', 12),\n",
       " ('borrow', 12),\n",
       " ('desert', 12),\n",
       " ('burning', 12),\n",
       " ('morrow', 12),\n",
       " ('long', 12),\n",
       " ('meaninglittle', 12),\n",
       " ('air', 12),\n",
       " ('wretch', 12),\n",
       " ('rapping', 12),\n",
       " ('we', 12),\n",
       " ('many', 12),\n",
       " ('memories', 12),\n",
       " ('shore', 12),\n",
       " ('you', 12),\n",
       " ('again', 10),\n",
       " ('explore', 10),\n",
       " ('mortals', 10),\n",
       " ('while', 10),\n",
       " ('cushioned', 10),\n",
       " ('sure', 10),\n",
       " ('nights', 10),\n",
       " ('censer', 10),\n",
       " ('reply', 10),\n",
       " ('ghost', 10),\n",
       " ('eyes', 10),\n",
       " ('till', 10),\n",
       " ('wheeled', 10),\n",
       " ('entrance', 10),\n",
       " ('tell', 10),\n",
       " ('living', 10),\n",
       " ('sculptured', 10),\n",
       " ('youhere', 10),\n",
       " ('terrors', 10),\n",
       " ('other', 10),\n",
       " ('seeming', 10),\n",
       " ('art', 10),\n",
       " ('lost', 10),\n",
       " ('grew', 10),\n",
       " ('uttered', 10),\n",
       " ('nodded', 10),\n",
       " ('being', 10),\n",
       " ('take', 10),\n",
       " ('tinkled', 10),\n",
       " ('mystery', 10),\n",
       " ('straight', 10),\n",
       " ('reclining', 10),\n",
       " ('beak', 10),\n",
       " ('something', 10),\n",
       " ('heaven', 10),\n",
       " ('whether', 10),\n",
       " ('within', 10),\n",
       " ('heart', 10),\n",
       " ('balm', 10),\n",
       " ('silken', 10),\n",
       " ('stock', 10),\n",
       " ('fiery', 10),\n",
       " ('opened', 10),\n",
       " ('lies', 10),\n",
       " ('decorum', 10),\n",
       " ('heard', 10),\n",
       " ('linking', 8),\n",
       " ('made', 8),\n",
       " ('wore', 8),\n",
       " ('whispered', 8),\n",
       " ('window', 8),\n",
       " ('sorrowsorrow', 8),\n",
       " ('ever', 8),\n",
       " ('nameless', 8),\n",
       " ('entreating', 8),\n",
       " ('core', 8),\n",
       " ('hesitating', 8),\n",
       " ('streaming', 8),\n",
       " ('when', 8),\n",
       " ('home', 8),\n",
       " ('thing', 8),\n",
       " ('beast', 8),\n",
       " ('black', 8),\n",
       " ('bends', 8),\n",
       " ('little', 8),\n",
       " ('plume', 8),\n",
       " ('such', 8),\n",
       " ('fowl', 8),\n",
       " ('lady', 8),\n",
       " ('spoken', 8),\n",
       " ('croaking', 8),\n",
       " ('thereis', 8),\n",
       " ('craven', 8),\n",
       " ('distinctly', 8),\n",
       " ('violet', 8),\n",
       " ('relevancy', 8),\n",
       " ('token', 8),\n",
       " ('stillness', 8),\n",
       " ('out', 8),\n",
       " ('she', 8),\n",
       " ('unto', 8),\n",
       " ('felt', 8),\n",
       " ('songs', 8),\n",
       " ('over', 8),\n",
       " ('each', 8),\n",
       " ('hope', 8),\n",
       " ('ease', 8),\n",
       " ('silence', 8),\n",
       " ('tempest', 8),\n",
       " ('followed', 8),\n",
       " ('metell', 8),\n",
       " ('perfumed', 8),\n",
       " ('now', 8),\n",
       " ('an', 8),\n",
       " ('truly', 8),\n",
       " ('have', 8),\n",
       " ('minute', 8),\n",
       " ('tufted', 8),\n",
       " ('stronger', 8),\n",
       " ('stood', 8),\n",
       " ('weak', 8),\n",
       " ('unbroken', 6),\n",
       " ('unbrokenquit', 6),\n",
       " ('least', 6),\n",
       " ('outpour', 6),\n",
       " ('aidenn', 6),\n",
       " ('nightly', 6),\n",
       " ('evermore', 6),\n",
       " ('deep', 6),\n",
       " ('sorrow', 6),\n",
       " ('clasp', 6),\n",
       " ('much', 6),\n",
       " ('engaged', 6),\n",
       " ('unmerciful', 6),\n",
       " ('myself', 6),\n",
       " ('friends', 6),\n",
       " ('lattice', 6),\n",
       " ('see', 6),\n",
       " ('curious', 6),\n",
       " ('usby', 6),\n",
       " ('muttered', 6),\n",
       " ('liftednevermore', 6),\n",
       " ('placid', 6),\n",
       " ('had', 6),\n",
       " ('god', 6),\n",
       " ('fact', 6),\n",
       " ('louder', 6),\n",
       " ('meant', 6),\n",
       " ('wandering', 6),\n",
       " ('volume', 6),\n",
       " ('adore', 6),\n",
       " ('these', 6),\n",
       " ('ember', 6),\n",
       " ('stayed', 6),\n",
       " ('parting', 6),\n",
       " ('obeisance', 6),\n",
       " ('fiend', 6),\n",
       " ('wondering', 6),\n",
       " ('oh', 6),\n",
       " ('shaven', 6),\n",
       " ('demons', 6),\n",
       " ('aptly', 6),\n",
       " ('repeating', 6),\n",
       " ('once', 6),\n",
       " ('our', 6),\n",
       " ('press', 6),\n",
       " ('gloating', 6),\n",
       " ('has', 6),\n",
       " ('divining', 6),\n",
       " ('startled', 6),\n",
       " ('beating', 6),\n",
       " ('ancient', 6),\n",
       " ('prophet', 6),\n",
       " ('stately', 6),\n",
       " ('off', 6),\n",
       " ('syllable', 6),\n",
       " ('doubting', 6),\n",
       " ('turning', 6),\n",
       " ('dream', 6),\n",
       " ('him', 6),\n",
       " ('wide', 6),\n",
       " ('flung', 6),\n",
       " ('countenance', 4),\n",
       " ('stepped', 4),\n",
       " ('curtain', 4),\n",
       " ('horror', 4),\n",
       " ('respiterespite', 4),\n",
       " ('nevernevermore', 4),\n",
       " ('vainly', 4),\n",
       " ('mien', 4),\n",
       " ('help', 4),\n",
       " ('shrieked', 4),\n",
       " ('laden', 4),\n",
       " ('seraphim', 4),\n",
       " ('remember', 4),\n",
       " ('did', 4),\n",
       " ('cushions', 4),\n",
       " ('form', 4),\n",
       " ('gave', 4),\n",
       " ('distant', 4),\n",
       " ('wrought', 4),\n",
       " ('answer', 4),\n",
       " ('crest', 4),\n",
       " ('doubtless', 4),\n",
       " ('upstarting', 4),\n",
       " ('forgotten', 4),\n",
       " ('lent', 4),\n",
       " ('throws', 4),\n",
       " ('merely', 4),\n",
       " ('fluttered', 4),\n",
       " ('front', 4),\n",
       " ('tempter', 4),\n",
       " ('though', 4),\n",
       " ('both', 4),\n",
       " ('your', 4),\n",
       " ('tossed', 4),\n",
       " ('gaunt', 4),\n",
       " ('undaunted', 4),\n",
       " ('ebony', 4),\n",
       " ('eagerly', 4),\n",
       " ('flirt', 4),\n",
       " ('burned', 4),\n",
       " ('separate', 4),\n",
       " ('shorn', 4),\n",
       " ('sign', 4),\n",
       " ('quaff', 4),\n",
       " ('hear', 4),\n",
       " ('hauntedtell', 4),\n",
       " ('sinking', 4),\n",
       " ('stopped', 4),\n",
       " ('fantastic', 4),\n",
       " ('shadow', 4),\n",
       " ('hopes', 4),\n",
       " ('discourse', 4),\n",
       " ('stern', 4),\n",
       " ('evilprophet', 4),\n",
       " ('december', 4),\n",
       " ('enchanted', 4),\n",
       " ('madam', 4),\n",
       " ('fearing', 4),\n",
       " ('thou', 4),\n",
       " ('master', 4),\n",
       " ('shutter', 4),\n",
       " ('human', 4),\n",
       " ('surcease', 4),\n",
       " ('thereat', 4),\n",
       " ('mefilled', 4),\n",
       " ('books', 4),\n",
       " ('footfalls', 4),\n",
       " ('peering', 4),\n",
       " ('gloated', 4),\n",
       " ('expressing', 4),\n",
       " ('lore', 4),\n",
       " ('wind', 4),\n",
       " ('let', 4),\n",
       " ('purple', 4),\n",
       " ('swung', 4),\n",
       " ('faster', 2),\n",
       " ('cried', 2),\n",
       " ('grave', 2),\n",
       " ('dreams', 2),\n",
       " ('midnight', 2),\n",
       " ('ashore', 2),\n",
       " ('guessing', 2),\n",
       " ('days', 2),\n",
       " ('flutter', 2),\n",
       " ('open', 2),\n",
       " ('lord', 2),\n",
       " ('get', 2),\n",
       " ('lie', 2),\n",
       " ('methought', 2),\n",
       " ('gileadtell', 2),\n",
       " ('blessed', 2),\n",
       " ('dirges', 2),\n",
       " ('seeing', 2),\n",
       " ('moment', 2),\n",
       " ('dreary', 2),\n",
       " ('desolate', 2),\n",
       " ('sought', 2),\n",
       " ('loneliness', 2),\n",
       " ('bosoms', 2),\n",
       " ('nearly', 2),\n",
       " ('pallid', 2),\n",
       " ('echo', 2),\n",
       " ('floating', 2),\n",
       " ('lordly', 2),\n",
       " ('presently', 2),\n",
       " ('wished', 2),\n",
       " ('scarcely', 2),\n",
       " ('suddenly', 2),\n",
       " ('seat', 2),\n",
       " ('caught', 2),\n",
       " ('thinking', 2),\n",
       " ('disaster', 2),\n",
       " ('sent', 2),\n",
       " ('unhappy', 2),\n",
       " ('saintly', 2),\n",
       " ('murmured', 2),\n",
       " ('thrilled', 2),\n",
       " ('faintly', 2),\n",
       " ('forgiveness', 2),\n",
       " ('unseen', 2),\n",
       " ('sainted', 2),\n",
       " ('farther', 2),\n",
       " ('marvelled', 2),\n",
       " ('shadows', 2),\n",
       " ('will', 2),\n",
       " ('dared', 2),\n",
       " ('soon', 2),\n",
       " ('weary', 2),\n",
       " ('first', 0)]"
      ]
     },
     "execution_count": 52,
     "metadata": {},
     "output_type": "execute_result"
    }
   ],
   "source": [
    "# 리스트 정렬\n",
    "sort_de = sorted(de.items(), key = lambda x : x[1], reverse=True)\n",
    "sort_de"
   ]
  },
  {
   "cell_type": "code",
   "execution_count": 53,
   "metadata": {},
   "outputs": [
    {
     "data": {
      "text/plain": [
       "'red-blue-yellow-green'"
      ]
     },
     "execution_count": 53,
     "metadata": {},
     "output_type": "execute_result"
    }
   ],
   "source": [
    "#join\n",
    "\n",
    "colors = ['red', 'blue', 'yellow', 'green']\n",
    "\"-\".join(colors)"
   ]
  },
  {
   "cell_type": "code",
   "execution_count": 55,
   "metadata": {},
   "outputs": [
    {
     "data": {
      "text/plain": [
       "[0, 1, 2, 3, 4, 5, 6, 7, 8, 9]"
      ]
     },
     "execution_count": 55,
     "metadata": {},
     "output_type": "execute_result"
    }
   ],
   "source": [
    "# 리스트 컴프리헨션\n",
    "\n",
    "result = [i for i in range(10)]\n",
    "result"
   ]
  },
  {
   "cell_type": "code",
   "execution_count": 59,
   "metadata": {},
   "outputs": [
    {
     "data": {
      "text/plain": [
       "[0, 2, 4, 6, 8]"
      ]
     },
     "execution_count": 59,
     "metadata": {},
     "output_type": "execute_result"
    }
   ],
   "source": [
    "result = [n for n in range(10) if n % 2 == 0]\n",
    "result"
   ]
  },
  {
   "cell_type": "code",
   "execution_count": 46,
   "metadata": {},
   "outputs": [
    {
     "data": {
      "text/plain": [
       "['hh', 'hi', 'eh', 'ei', 'lh', 'li', 'lh', 'li', 'oh', 'oi']"
      ]
     },
     "execution_count": 46,
     "metadata": {},
     "output_type": "execute_result"
    }
   ],
   "source": [
    "# for문 중첩\n",
    "\n",
    "word1 = \"hello\"\n",
    "word2 = \"hi\"\n",
    "\n",
    "result = [i+j for i in word1 for j in word2]\n",
    "result"
   ]
  },
  {
   "cell_type": "code",
   "execution_count": 84,
   "metadata": {},
   "outputs": [],
   "source": [
    "import timeit"
   ]
  },
  {
   "cell_type": "code",
   "execution_count": 3,
   "metadata": {},
   "outputs": [],
   "source": [
    "sentence = \"way a is there will a is there Where\""
   ]
  },
  {
   "cell_type": "code",
   "execution_count": 36,
   "metadata": {},
   "outputs": [],
   "source": [
    "def reverse_sentence_khk(sentence:str) ->str :\n",
    "    reverse = sentence.split()[::-1]\n",
    "    return ' '.join(reverse)"
   ]
  },
  {
   "cell_type": "code",
   "execution_count": 42,
   "metadata": {},
   "outputs": [],
   "source": [
    "def reverse_sentence_sujung(sentence:str) -> str:\n",
    "    r = sentence.split()\n",
    "    r.reverse()\n",
    "    return ' '.join(r)"
   ]
  },
  {
   "cell_type": "code",
   "execution_count": 44,
   "metadata": {},
   "outputs": [
    {
     "name": "stdout",
     "output_type": "stream",
     "text": [
      "618 ns ± 14.4 ns per loop (mean ± std. dev. of 7 runs, 1000000 loops each)\n"
     ]
    }
   ],
   "source": [
    "reverse_sentence_khk(sentence)\n",
    "\n",
    "%timeit reverse_sentence_khk(sentence)"
   ]
  },
  {
   "cell_type": "code",
   "execution_count": 45,
   "metadata": {},
   "outputs": [
    {
     "name": "stdout",
     "output_type": "stream",
     "text": [
      "620 ns ± 16.4 ns per loop (mean ± std. dev. of 7 runs, 1000000 loops each)\n"
     ]
    }
   ],
   "source": [
    "reverse_sentence_sujung(sentence)\n",
    "\n",
    "%timeit reverse_sentence_sujung(sentence)"
   ]
  },
  {
   "cell_type": "code",
   "execution_count": 47,
   "metadata": {},
   "outputs": [
    {
     "data": {
      "text/plain": [
       "'way a is there will a is there Where'"
      ]
     },
     "execution_count": 47,
     "metadata": {},
     "output_type": "execute_result"
    }
   ],
   "source": [
    "sentence"
   ]
  },
  {
   "cell_type": "code",
   "execution_count": 49,
   "metadata": {},
   "outputs": [
    {
     "data": {
      "text/plain": [
       "[['WAY', 'way', 3],\n",
       " ['A', 'a', 1],\n",
       " ['IS', 'is', 2],\n",
       " ['THERE', 'there', 5],\n",
       " ['WILL', 'will', 4],\n",
       " ['A', 'a', 1],\n",
       " ['IS', 'is', 2],\n",
       " ['THERE', 'there', 5],\n",
       " ['WHERE', 'where', 5]]"
      ]
     },
     "execution_count": 49,
     "metadata": {},
     "output_type": "execute_result"
    }
   ],
   "source": [
    "# two dimensional list\n",
    "\n",
    "words = sentence.split()\n",
    "stuff = [[w.upper(), w.lower(), len(w)] for w in words ]\n",
    "stuff"
   ]
  },
  {
   "cell_type": "code",
   "execution_count": 53,
   "metadata": {},
   "outputs": [
    {
     "name": "stdout",
     "output_type": "stream",
     "text": [
      "(1, 3, 5, 7)\n",
      "(2, 4, 6, 8)\n",
      "16\n",
      "20\n"
     ]
    }
   ],
   "source": [
    "# with zip\n",
    "# *역할 : unpacking \n",
    "ex = ([1, 2], [3, 4], [5, 6], [7, 8])\n",
    "\n",
    "for value in zip(*ex) :\n",
    "    print(value)\n",
    "\n",
    "for value in zip(*ex) :\n",
    "    print(sum(value))"
   ]
  },
  {
   "cell_type": "code",
   "execution_count": 2,
   "metadata": {},
   "outputs": [],
   "source": [
    "# Q1\n",
    "num_list = [1, 5, 7, 15, 16, 22, 28, 29]\n",
    "\n",
    "def get_odd_num(num_list:list) :\n",
    "    return [num for num in num_list if num % 2]"
   ]
  },
  {
   "cell_type": "code",
   "execution_count": 3,
   "metadata": {},
   "outputs": [
    {
     "name": "stdout",
     "output_type": "stream",
     "text": [
      "[1, 5, 7, 15, 29]\n"
     ]
    }
   ],
   "source": [
    "print(get_odd_num(num_list))"
   ]
  },
  {
   "cell_type": "code",
   "execution_count": 19,
   "metadata": {},
   "outputs": [],
   "source": [
    "# Q3\n",
    "score = [(100, 100), (95, 90), (55, 60), (75, 80), (70, 70)]\n",
    "\n",
    "def get_avg(score:list) :\n",
    "    # 리스트와 반복문을 사용\n",
    "    # 학생별 평균\n",
    "    for index, point in enumerate(score) :\n",
    "            print(f'{index+1}번, 평균 : {sum(point)/len(point):.1f}')"
   ]
  },
  {
   "cell_type": "code",
   "execution_count": 20,
   "metadata": {},
   "outputs": [
    {
     "name": "stdout",
     "output_type": "stream",
     "text": [
      "1번, 평균 : 100.0\n",
      "2번, 평균 : 92.5\n",
      "3번, 평균 : 57.5\n",
      "4번, 평균 : 77.5\n",
      "5번, 평균 : 70.0\n"
     ]
    }
   ],
   "source": [
    "get_avg(score)"
   ]
  },
  {
   "cell_type": "code",
   "execution_count": 37,
   "metadata": {},
   "outputs": [],
   "source": [
    "# Q4\n",
    "dict_first = {'사과':30, '배':15, '감':10, '포도':10}\n",
    "dict_second = {'사과':5, '감':25, '배':15, '귤':25}"
   ]
  },
  {
   "cell_type": "code",
   "execution_count": 92,
   "metadata": {},
   "outputs": [],
   "source": [
    "from collections import defaultdict\n",
    "from itertools import chain"
   ]
  },
  {
   "cell_type": "code",
   "execution_count": 93,
   "metadata": {},
   "outputs": [],
   "source": [
    "def merge_dict(dict_first:dict, dict_second:dict) :\n",
    "    dict_sum = defaultdict(lambda : 0)\n",
    "    # dict_sum = {}\n",
    "    for k, v in dict_first.items():\n",
    "        dict_sum[k] += v\n",
    "    for k, v in dict_second.items():\n",
    "        dict_sum[k] += v\n",
    "\n",
    "    return dict_sum"
   ]
  },
  {
   "cell_type": "code",
   "execution_count": 94,
   "metadata": {},
   "outputs": [
    {
     "data": {
      "text/plain": [
       "defaultdict(<function __main__.merge_dict.<locals>.<lambda>()>,\n",
       "            {'사과': 35, '배': 30, '감': 35, '포도': 10, '귤': 25})"
      ]
     },
     "execution_count": 94,
     "metadata": {},
     "output_type": "execute_result"
    }
   ],
   "source": [
    "merge_dict(dict_first, dict_second)"
   ]
  },
  {
   "cell_type": "code",
   "execution_count": 95,
   "metadata": {},
   "outputs": [],
   "source": [
    "# Q4 -2 \n",
    "def merge_dict(dict_first:dict, dict_second:dict) :\n",
    "    dict_sum = defaultdict(lambda : 0)\n",
    "    for k, v in chain(dict_first.items(), dict_second.items()):\n",
    "        dict_sum[k] += v\n",
    "\n",
    "    return dict_sum"
   ]
  },
  {
   "cell_type": "code",
   "execution_count": 96,
   "metadata": {},
   "outputs": [
    {
     "data": {
      "text/plain": [
       "defaultdict(<function __main__.merge_dict.<locals>.<lambda>()>,\n",
       "            {'사과': 35, '배': 30, '감': 35, '포도': 10, '귤': 25})"
      ]
     },
     "execution_count": 96,
     "metadata": {},
     "output_type": "execute_result"
    }
   ],
   "source": [
    "merge_dict(dict_first, dict_second)"
   ]
  },
  {
   "cell_type": "code",
   "execution_count": 125,
   "metadata": {},
   "outputs": [],
   "source": [
    "# Q4 - 3\n",
    "def merge_dict(dict_first:dict, dict_second:dict) :\n",
    "   dict_sum = defaultdict(list)\n",
    "   for k ,v in chain(dict_first.items(), dict_second.items()) :\n",
    "      dict_sum[k].append(v)\n",
    "   for k, v in dict_sum.items() :\n",
    "      dict_sum[k] = sum(v)\n",
    "   return dict_sum"
   ]
  },
  {
   "cell_type": "code",
   "execution_count": 130,
   "metadata": {},
   "outputs": [
    {
     "data": {
      "text/plain": [
       "defaultdict(list, {'사과': 35, '배': 30, '감': 35, '포도': 10, '귤': 25})"
      ]
     },
     "execution_count": 130,
     "metadata": {},
     "output_type": "execute_result"
    }
   ],
   "source": [
    "merge_dict(dict_first, dict_second)"
   ]
  },
  {
   "cell_type": "code",
   "execution_count": 133,
   "metadata": {},
   "outputs": [],
   "source": [
    "# Q4 -4 Counter => dict의 value가 숫자인 경우만 \n",
    "from collections import Counter\n",
    "\n",
    "def merge_dict(dict_first:dict, dict_second:dict) :\n",
    "   df = Counter(dict_first)\n",
    "   ds = Counter(dict_second)\n",
    "\n",
    "   return df + ds"
   ]
  },
  {
   "cell_type": "code",
   "execution_count": 134,
   "metadata": {},
   "outputs": [
    {
     "data": {
      "text/plain": [
       "Counter({'사과': 35, '배': 30, '감': 35, '포도': 10, '귤': 25})"
      ]
     },
     "execution_count": 134,
     "metadata": {},
     "output_type": "execute_result"
    }
   ],
   "source": [
    "merge_dict(dict_first, dict_second)"
   ]
  },
  {
   "cell_type": "code",
   "execution_count": 196,
   "metadata": {},
   "outputs": [],
   "source": [
    "# Q5 \n",
    "inputs = \"cat32dog16cow5가나다13마바\""
   ]
  },
  {
   "cell_type": "code",
   "execution_count": 197,
   "metadata": {},
   "outputs": [],
   "source": [
    "# Q5 - 1\n",
    "def find_string(inputs:str):\n",
    "    # 숫자를 띄어쓰기로 대체하기\n",
    "    result = ''\n",
    "    for i in inputs :\n",
    "        if i.isdigit() :\n",
    "            i = \" \"\n",
    "        result += i\n",
    "\n",
    "    return result.split()"
   ]
  },
  {
   "cell_type": "code",
   "execution_count": 222,
   "metadata": {},
   "outputs": [],
   "source": [
    "# Q5 - 2\n",
    "import re\n",
    "def find_string(inputs:str):\n",
    "    return re.findall(\"\\D+\", inputs)"
   ]
  },
  {
   "cell_type": "code",
   "execution_count": 223,
   "metadata": {},
   "outputs": [
    {
     "data": {
      "text/plain": [
       "['cat', 'dog', 'cow', '가나다', '마바']"
      ]
     },
     "execution_count": 223,
     "metadata": {},
     "output_type": "execute_result"
    }
   ],
   "source": [
    "find_string(inputs)"
   ]
  },
  {
   "cell_type": "code",
   "execution_count": null,
   "metadata": {},
   "outputs": [],
   "source": []
  }
 ],
 "metadata": {
  "interpreter": {
   "hash": "7864022d2d6a0d8a23bd48684de2cf76955329a033e220264d6017f4eeec3e68"
  },
  "kernelspec": {
   "display_name": "Python 3.10.1 64-bit ('3.10.1': pyenv)",
   "language": "python",
   "name": "python3"
  },
  "language_info": {
   "codemirror_mode": {
    "name": "ipython",
    "version": 3
   },
   "file_extension": ".py",
   "mimetype": "text/x-python",
   "name": "python",
   "nbconvert_exporter": "python",
   "pygments_lexer": "ipython3",
   "version": "3.10.0"
  },
  "orig_nbformat": 4
 },
 "nbformat": 4,
 "nbformat_minor": 2
}
